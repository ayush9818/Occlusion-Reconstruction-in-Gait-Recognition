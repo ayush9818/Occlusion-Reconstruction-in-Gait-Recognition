{
  "nbformat": 4,
  "nbformat_minor": 0,
  "metadata": {
    "colab": {
      "name": "Copy of Siamese_skip_connection_EMT(online).ipynb",
      "provenance": [],
      "collapsed_sections": [
        "kj8Rfdf_6CzL",
        "2Mmtj85CcMFr"
      ]
    },
    "kernelspec": {
      "name": "python3",
      "display_name": "Python 3"
    },
    "accelerator": "GPU"
  },
  "cells": [
    {
      "cell_type": "code",
      "metadata": {
        "id": "UUuXRDRK8JrF",
        "colab_type": "code",
        "colab": {
          "base_uri": "https://localhost:8080/",
          "height": 33
        },
        "outputId": "eee23a8f-ed0e-4233-faaf-49097ad43037"
      },
      "source": [
        "from google.colab import drive\n",
        "drive.mount('/content/gdrive')"
      ],
      "execution_count": 1,
      "outputs": [
        {
          "output_type": "stream",
          "text": [
            "Drive already mounted at /content/gdrive; to attempt to forcibly remount, call drive.mount(\"/content/gdrive\", force_remount=True).\n"
          ],
          "name": "stdout"
        }
      ]
    },
    {
      "cell_type": "code",
      "metadata": {
        "id": "M75VU8mSA1XL",
        "colab_type": "code",
        "colab": {
          "base_uri": "https://localhost:8080/",
          "height": 33
        },
        "outputId": "dd45e93d-f119-4db0-91b2-66f93d8c6372"
      },
      "source": [
        "!ls /content"
      ],
      "execution_count": 2,
      "outputs": [
        {
          "output_type": "stream",
          "text": [
            "gdrive\tsample_data\n"
          ],
          "name": "stdout"
        }
      ]
    },
    {
      "cell_type": "markdown",
      "metadata": {
        "id": "RSDlNIUZ-416",
        "colab_type": "text"
      },
      "source": [
        "## UTILS"
      ]
    },
    {
      "cell_type": "code",
      "metadata": {
        "id": "FPI77NqW8qyb",
        "colab_type": "code",
        "colab": {}
      },
      "source": [
        "import numpy as np\n",
        "import os\n",
        "import json\n",
        "import re\n",
        "import pandas as pd\n",
        "import torch.utils.data as data\n",
        "import torch\n",
        "from torch import nn,optim\n",
        "from torchvision import datasets,transforms"
      ],
      "execution_count": 3,
      "outputs": []
    },
    {
      "cell_type": "markdown",
      "metadata": {
        "id": "ejFJUXNu-80v",
        "colab_type": "text"
      },
      "source": [
        "## PERMUTATION GENERATION"
      ]
    },
    {
      "cell_type": "code",
      "metadata": {
        "id": "T20MCcOZ-30i",
        "colab_type": "code",
        "colab": {}
      },
      "source": [
        "###to generate distances. feeding two points together\n",
        "def permute_all(N: int):\n",
        "    \"\"\"\n",
        "    \"\"\"\n",
        "    assert N > 0\n",
        "    pairs = None\n",
        "    for i in range(N):\n",
        "        for j in range(N):\n",
        "            if pairs is None:\n",
        "                pairs = np.array([i, j])\n",
        "            else:\n",
        "                pairs = np.vstack((pairs, np.array([i, j])))\n",
        "    return pairs\n",
        "\n",
        "\n",
        "def permute_unique(N: int, d_max=15):###what is dmax????\n",
        "    \"\"\"\n",
        "    Return permutations for point tuple indices; each permutation\n",
        "    is unique.\n",
        "    Example (N = 4):\n",
        "    0 1\n",
        "    0 2\n",
        "    0 3\n",
        "    1 2\n",
        "    1 3\n",
        "    2 3\n",
        "    \"\"\"\n",
        "    assert N > 0\n",
        "    pairs = None\n",
        "    for i in range(N):\n",
        "        for j in range(i + 1, N):\n",
        "            if pairs is None:\n",
        "                pairs = np.array([i, j])\n",
        "            else:\n",
        "                pairs = np.vstack((pairs, np.array([i, j])))\n",
        "    return pairs\n",
        "\n",
        "\n",
        "def permute_unique_inverse(N: int):\n",
        "    \"\"\"\n",
        "    \"\"\"\n",
        "    assert N > 0\n",
        "    pairs = None\n",
        "    for i in range(N):\n",
        "        for j in range(i + 1, N):\n",
        "            if pairs is None:\n",
        "                pairs = np.array([j, i])\n",
        "            else:\n",
        "                pairs = np.vstack((pairs, np.array([j, i])))\n",
        "    return pairs\n",
        "\n",
        "\n",
        "def permute_reverse(N: int):\n",
        "    \"\"\"\n",
        "    Return permutations for point tuple indices.\n",
        "    Example (N = 4):\n",
        "    0 1\n",
        "    0 2\n",
        "    1 0\n",
        "    2 0\n",
        "    2 1\n",
        "    \"\"\"\n",
        "    assert N > 0\n",
        "    pairs = None\n",
        "    for i in range(N):\n",
        "        for j in range(N):\n",
        "            if i == j:\n",
        "                continue\n",
        "            if pairs is None:\n",
        "                pairs = np.array([i, j])\n",
        "            else:\n",
        "                pairs = np.vstack((pairs, np.array([i, j])))\n",
        "    return pairs\n",
        "\n",
        "\n",
        "def permute_subsequent(N: int):\n",
        "    \"\"\"\n",
        "    \"\"\"\n",
        "    assert N > 0\n",
        "    pairs = None\n",
        "    for i in range(N - 1):\n",
        "        if pairs is None:\n",
        "            pairs = np.array([i, i + 1])\n",
        "        else:\n",
        "            pairs = np.vstack((pairs, np.array([i, i + 1])))\n",
        "    return pairs\n",
        "\n",
        "\n",
        "def permute_subsequent_reverse(N: int):\n",
        "    \"\"\"\n",
        "    \"\"\"\n",
        "    assert N > 0\n",
        "    pairs = None\n",
        "    for i in range(N - 1):\n",
        "        if pairs is None:\n",
        "            pairs = np.array([i, i + 1])\n",
        "        else:\n",
        "            pairs = np.vstack((pairs, np.array([i, i + 1])))\n",
        "        pairs = np.vstack((pairs, np.array([i + 1, i])))\n",
        "    return pairs\n",
        "\n",
        "\n",
        "def permute_same(N: int):\n",
        "    \"\"\"\n",
        "    \"\"\"\n",
        "    assert N > 0\n",
        "    pairs = None\n",
        "    for i in range(N):\n",
        "        if pairs is None:\n",
        "            pairs = np.array([i, i])\n",
        "        else:\n",
        "            pairs = np.vstack((pairs, np.array([i, i])))\n",
        "    return pairs\n",
        "\n",
        "\n",
        "def permute_single(N):\n",
        "    return np.array([[0, 1], [1, 0]])"
      ],
      "execution_count": 4,
      "outputs": []
    },
    {
      "cell_type": "markdown",
      "metadata": {
        "id": "2BkjjZaF_bl8",
        "colab_type": "text"
      },
      "source": [
        "## CALIBERATION"
      ]
    },
    {
      "cell_type": "code",
      "metadata": {
        "id": "LwZWTr3-_exE",
        "colab_type": "code",
        "colab": {}
      },
      "source": [
        "def _parse_model_section(lines: list):\n",
        "    model_offsets = {}\n",
        "    for line in lines:\n",
        "        token = ''\n",
        "        at_model = False\n",
        "        at_offset = False\n",
        "        model_coords = []\n",
        "        offset_coords = []\n",
        "        for c in line:\n",
        "            if c == '(':\n",
        "                if not at_model and not at_offset:\n",
        "                    at_model = True\n",
        "                elif not at_model and at_offset:\n",
        "                    pass\n",
        "            elif c == ')':\n",
        "                pass\n",
        "            elif c == ':':\n",
        "                at_model = False\n",
        "                at_offset = True\n",
        "            elif c.isspace():\n",
        "                pass\n",
        "            elif c == ',':\n",
        "                pass\n",
        "            elif c.isdigit() or c in ('e', '.', '-'):\n",
        "                token += c\n",
        "                continue\n",
        "            else:\n",
        "                raise RuntimeError('unexpected character ' + c)\n",
        "            if token:\n",
        "                if at_model:\n",
        "                    model_coords.append(float(token))\n",
        "                elif at_offset:\n",
        "                    offset_coords.append(float(token))\n",
        "                token = ''\n",
        "        if len(model_coords) != len(offset_coords):\n",
        "            raise RuntimeError('invalid mapping of coords in MODEL section')\n",
        "        modelpoint = tuple(model_coords)\n",
        "        offset = offset_coords\n",
        "        if modelpoint and offset:\n",
        "            model_offsets[modelpoint] = np.array(offset)\n",
        "    return model_offsets\n",
        "\n",
        "def load_calibration(path: str):\n",
        "    \"\"\"\n",
        "    Load calibration data from file.\n",
        "\n",
        "    :param path: path to calibration file\n",
        "    \"\"\"\n",
        "    sections = {}\n",
        "    current_section = ''\n",
        "    section_lines = []\n",
        "    with open(path, 'r') as f:\n",
        "        text = f.read()\n",
        "        lines = text.splitlines()\n",
        "        for line in lines:\n",
        "            line = line.strip()\n",
        "            idx = line.find('#')\n",
        "            if idx != -1:\n",
        "                line = line[:idx]\n",
        "            if not line:\n",
        "                continue\n",
        "            if line.startswith('[') and line.endswith(']'):\n",
        "                if current_section:\n",
        "                    sections[current_section].extend(section_lines)\n",
        "                    section_lines = []\n",
        "                current_section = line[1:-1].upper()\n",
        "                if current_section not in sections:\n",
        "                    sections[current_section] = []\n",
        "            elif not current_section:\n",
        "                raise RuntimeError('line does not belong to any section')\n",
        "            else:\n",
        "                section_lines.append(line)\n",
        "        if section_lines:\n",
        "            sections[current_section].extend(section_lines)\n",
        "    return _parse_model_section(sections['MODEL'])"
      ],
      "execution_count": 5,
      "outputs": []
    },
    {
      "cell_type": "markdown",
      "metadata": {
        "id": "JsTIhfV5_GpK",
        "colab_type": "text"
      },
      "source": [
        "## DATASET"
      ]
    },
    {
      "cell_type": "code",
      "metadata": {
        "id": "-H2vkLvf_Foj",
        "colab_type": "code",
        "colab": {}
      },
      "source": [
        "import os\n",
        "import json\n",
        "import re\n",
        "import pandas as pd\n",
        "\n",
        "#from .calibration import load_calibration\n",
        "#from .permutations import permute_all, permute_unique\n",
        "calibration_map = load_calibration('/content/gdrive/My Drive/daad/calibration.clb')\n",
        "\n",
        "class Sensor:\n",
        "    def __init__(self):\n",
        "        \"\"\"\n",
        "        \"\"\"\n",
        "        self.data = None\n",
        "\n",
        "##sensor 0 used to correct the offset the phantom..\n",
        "##the sensor data is in another dimasion so we use displacement vectors #\n",
        "class Measurement:\n",
        "    def __init__(self, identifier: str):\n",
        "        self.identifier = identifier\n",
        "        self.sensors = []####contains all points recorded by sensor????? yes\n",
        "        self.model = None####contains all gnd truth points ????? yes\n",
        "\n",
        "    def points(self, features):#returns sensor values record???? yes...whys index is 1 here???? sensor zero(shoud have bit variance since there must be some distortions in the evironment) is reference sensor sor only data recorderd by sensor 1.\n",
        "        P = self.sensors[1].data[features].values\n",
        "        return P\n",
        "\n",
        "    def modelpoints(self, offset=False):### why Points.csv is added to sensor value???? which points does this return??\n",
        "        P = self.model\n",
        "        if offset:\n",
        "            ref = self.sensors[0].data[['x', 'y', 'z']].median().values\n",
        "            return P + ref\n",
        "        return P\n",
        "\n",
        "    def displacements(self, features, permute_func=permute_unique):##which points does this return??## if ip is (10,3) so (90,6)\n",
        "        \"\"\"\n",
        "        Return list of displacement vectors generated by a custom permutation.\n",
        "        :param features: input feature vector\n",
        "        \"\"\"\n",
        "        assert len(features) > 0\n",
        "        assert len(self.sensors) >= 2\n",
        "        n = len(features)\n",
        "        points = self.sensors[1].data[features].values##which points are these????? sensor data(input data)\n",
        "        assert len(points) > 0\n",
        "        if len(points) != 10:\n",
        "            print(self.timestamp)\n",
        "            print(len(points), self.description)\n",
        "        permutations = permute_func(len(points))####generating some random perm?? returns indexs which we want to pair\n",
        "        D = np.zeros((len(permutations), n * 2))## D is the list having the point pairs\n",
        "        for i, p in enumerate(permutations):\n",
        "            D[i, 0:n] = points[p[0], 0:n]####separating x,y,z && ax,ay,az??????\n",
        "            D[i, n:n*2] = points[p[1], 0:n]\n",
        "        return D\n",
        "\n",
        "    def model_displacements(self, permute_func=permute_unique):###done for model points???? this is for ground truth it will correspond dur to the prermute fucntion\n",
        "        permutations = permute_func(len(self.model))\n",
        "        M = np.zeros((len(permutations), 6))###isnt the same thing done in above function ??? whats the use??\n",
        "        for i, p in enumerate(permutations):\n",
        "            M[i, 0:3] = self.model[p[0], 0:3]\n",
        "            M[i, 3:6] = self.model[p[1], 0:3]\n",
        "        return M\n",
        "\n",
        "    def __len__(self):##returns length of points??\n",
        "        return len(self.model)\n",
        "\n",
        "\n",
        "def filter_df(df, nsamples):### how does this grouping work??? like removes duplicates?? from the sensor.csv take subarrays of 500 and take median of the samples to correct static error\n",
        "    return df.groupby(df.index // nsamples).median()\n",
        "\n",
        "##if we take only carm 8 then the measurement list would contain the number of elements as in the measurement folder in the folder\n",
        "class Dataset:\n",
        "    def __init__(self, identifier):\n",
        "        self.identifier = identifier\n",
        "        self.measurements = []###contains list of instances of the measurement class for different carms???\n",
        "        self.environments = set()##use of environments?? env in which measurement ere taken(some in lab, some in vicinity of the carm )\n",
        "\n",
        "    def subset(self, environments=None, description=None):##whats use of environments?? whats the purpose of this function??\n",
        "        ##if we have dataset with diff measurements in it it is used to create different subsets\n",
        "        \"\"\"\n",
        "        :param description: regex that is matched to measurement descriptions\n",
        "        \"\"\"\n",
        "        if environments is None and description is None:\n",
        "            raise RuntimeError('invalid subset query')\n",
        "        sub = Dataset(self.identifier + '_sub')\n",
        "        inverse = Dataset(self.identifier + '_inv')\n",
        "        regex = re.compile(description)\n",
        "        for measurement in self.measurements:\n",
        "            if environments and measurement.environment in environments:\n",
        "                sub.add_measurement(measurement)\n",
        "                continue\n",
        "            if description and re.match(regex, measurement.description):\n",
        "                sub.add_measurement(measurement)\n",
        "                continue\n",
        "            inverse.add_measurement(measurement)\n",
        "        return sub, inverse ### return the subset we want to have and remaining data\n",
        "\n",
        "    def merge(self, dataset):##whats the purpose of this function?? just the opposite of subset\n",
        "        merged = Dataset(self.identifier + '_' + dataset.identifier)\n",
        "        merged.measurements = self.measurements\n",
        "        merged.environments = self.environments\n",
        "        merged.measurements.extend(dataset.measurements)\n",
        "        merged.environments.update(dataset.environments)\n",
        "        return merged\n",
        "\n",
        "    def add_measurement(self, m: Measurement):\n",
        "        self.measurements.append(m)###adding measurements to the list in this class??\n",
        "        self.environments.add(m.environment)\n",
        "\n",
        "    def summary(self):\n",
        "        s = '[DATASET] {}\\n'.format(self.identifier)\n",
        "        s += '{} measurements\\n'.format(len(self.measurements))\n",
        "        s += 'environments: {}\\n'.format(','.join(self.environments))\n",
        "        s += 'rmse: {}\\n'.format(self.rmse())\n",
        "        return s\n",
        "\n",
        "    def displacements(self,\n",
        "            features,\n",
        "            permute_func=permute_all,\n",
        "            remove_duplicates=True,\n",
        "            shuffle=False):\n",
        "        \"\"\"\n",
        "        Return dataset displacements and corresponding model displacements.\n",
        "        :param features: input feature vector\n",
        "        :param permute_func: permutation function to generate displacements\n",
        "        :param remove_duplicates: remove redundant measured displacements\n",
        "        \"\"\"\n",
        "        assert len(features) > 0\n",
        "        D = None\n",
        "        M = None\n",
        "        for measurement in self.measurements:\n",
        "            d = measurement.displacements(features, permute_func)##difference between displacements->sensor data pairs && model_displacements->gnd truth pairs-- creates pairs of all points of one measurement folder\n",
        "            m = measurement.model_displacements(permute_func)\n",
        "            if D is None:\n",
        "                D = d\n",
        "                M = m\n",
        "            else:\n",
        "                D = np.vstack((D, d))\n",
        "                M = np.vstack((M, m))\n",
        "        if remove_duplicates:\n",
        "            _, idx = np.unique(D, axis=0, return_index=True)\n",
        "            if shuffle:\n",
        "                np.random.shuffle(idx)\n",
        "            D = D[idx, :]\n",
        "            M = M[idx, :]\n",
        "        return D, M## displacements and one is ground truth\n",
        "\n",
        "    def points(self, features):###returns the sensor values\n",
        "        P = None\n",
        "        for measurement in self.measurements:\n",
        "            p = measurement.points(features)\n",
        "            if P is None:\n",
        "                P = p\n",
        "            else:\n",
        "                P = np.vstack((P, p))\n",
        "        return P\n",
        "\n",
        "    def modelpoints(self, offset=False):##returns gnd truth data## here offset is used for sensor 0 kind of thing\n",
        "        P = None\n",
        "        for measurement in self.measurements:\n",
        "            p = measurement.modelpoints(offset)\n",
        "            if P is None:\n",
        "                P = p\n",
        "            else:\n",
        "                P = np.vstack((P, p))\n",
        "        return P\n",
        "\n",
        "    def errors(self):###what is this error like simply error in the actual dataset??yes\n",
        "        D, M = self.displacements(['x', 'y', 'z'])\n",
        "        d_D = np.linalg.norm(D[:, 0:3] - D[:, 3:6], axis=1)\n",
        "        d_M = np.linalg.norm(M[:, 0:3] - M[:, 3:6], axis=1)\n",
        "        E = d_D - d_M\n",
        "        return E\n",
        "\n",
        "    def mse(self):\n",
        "        E = self.errors()\n",
        "        mse = np.sum(np.square(E)) / len(E)\n",
        "        return mse\n",
        "\n",
        "    def rmse(self):\n",
        "        return np.sqrt(self.mse())\n",
        "\n",
        "\n",
        "def load_measurement(directory: str): ### returns instance of the measurment class??\n",
        "    assert len(directory) > 0\n",
        "    m = Measurement(directory)\n",
        "    m_meta = json.load(open(os.path.join(directory, 'measurement.json'), 'r'))\n",
        "    m.__dict__.update(m_meta)\n",
        "    points = pd.read_csv(os.path.join(directory, 'points.csv'), header=None)\n",
        "    m.model = points.values * 8.0###storing the gnd truth in the list of models\n",
        "\n",
        "    def get_calibrated_point(x):\n",
        "        return calibration_map.get((x[0], x[1], x[2]), (0, 0, 0))\n",
        "\n",
        "    offsets = np.apply_along_axis(get_calibrated_point, axis=1, arr=m.model)###caliberation?? yes\n",
        "    m.model -= offsets# remove the offset from the ground truth//// we could also alternatively add them to sensor data\n",
        "    nsamples = m.samples_per_point\n",
        "\n",
        "    # TODO @henry extend this to up to 4 sensors\n",
        "    s0 = Sensor()\n",
        "    with open(os.path.join(directory, 'sensor_0.json'), 'r') as f:\n",
        "        s0_meta = json.load(f)\n",
        "        s0.__dict__.update(s0_meta)\n",
        "    data = pd.read_csv(os.path.join(directory, 'sensor_0.csv'))\n",
        "    s0.data = filter_df(data, nsamples)\n",
        "\n",
        "    s1 = Sensor()\n",
        "    with open(os.path.join(directory, 'sensor_1.json'), 'r') as f:\n",
        "        s1_meta = json.load(f)\n",
        "        s1.__dict__.update(s1_meta)\n",
        "    data = pd.read_csv(os.path.join(directory, 'sensor_1.csv'))\n",
        "    # TODO @henry make configurable\n",
        "    data['x'] -= 180 ### normalize the data \n",
        "    data['y'] += 200\n",
        "    data['z'] += 30\n",
        "    data['q'] -= 20\n",
        "    s1.data = filter_df(data, nsamples)\n",
        "    s1.data['sx'] = data['x'].groupby(data.index // nsamples).std()##what is this?? why??\n",
        "    s1.data['sy'] = data['y'].groupby(data.index // nsamples).std()\n",
        "    s1.data['sz'] = data['z'].groupby(data.index // nsamples).std()\n",
        "    s1.data['rq'] = s0.data['q']\n",
        "    m.sensors.append(s0)\n",
        "    m.sensors.append(s1)\n",
        "    return m \n",
        "\n",
        "\n",
        "def load_dataset(directory: str):\n",
        "    assert len(directory) > 0\n",
        "    dataset = Dataset(os.path.basename(directory))\n",
        "    for board_position in os.listdir(directory):\n",
        "        board_dir = os.path.join(directory, board_position)\n",
        "        if board_dir.startswith('.'):\n",
        "            continue\n",
        "        for measurement_dir in os.listdir(board_dir):\n",
        "            if not measurement_dir.startswith('measurement'):\n",
        "                continue\n",
        "            m = load_measurement(os.path.join(board_dir, measurement_dir))\n",
        "            dataset.add_measurement(m)\n",
        "    return dataset"
      ],
      "execution_count": 6,
      "outputs": []
    },
    {
      "cell_type": "code",
      "metadata": {
        "id": "jpIE3x29wbPf",
        "colab_type": "code",
        "colab": {}
      },
      "source": [
        "#temp=Dataset(\"deepemt\")\n",
        "#os.path.basename(\"/content/gdrive/My Drive/daad/data\") ----> data"
      ],
      "execution_count": 7,
      "outputs": []
    },
    {
      "cell_type": "code",
      "metadata": {
        "id": "ybJZP4NsXjfW",
        "colab_type": "code",
        "colab": {}
      },
      "source": [
        "#z=load_dataset(\"/content/gdrive/My Drive/daad/data/c-arm-8\")"
      ],
      "execution_count": 8,
      "outputs": []
    },
    {
      "cell_type": "code",
      "metadata": {
        "id": "jmET5rpyCXuW",
        "colab_type": "code",
        "colab": {}
      },
      "source": [
        "def flatten_first_dim(x):\n",
        "  temp=[]\n",
        "  for i in range(len(x)):\n",
        "    for j in range(len(x[i])):\n",
        "      temp.append(x[i][j])\n",
        "  return np.asarray(temp)"
      ],
      "execution_count": 9,
      "outputs": []
    },
    {
      "cell_type": "code",
      "metadata": {
        "id": "syzQ6olR50--",
        "colab_type": "code",
        "colab": {}
      },
      "source": [
        "# base_dir=\"/content/gdrive/My Drive/daad/data\"\n",
        "# X=[]##trainx\n",
        "# Y=[]##trainy\n",
        "# train_errors=[]\n",
        "# x=[]##testx\n",
        "# y=[]##testy\n",
        "# test_errors=[]\n",
        "# for carm in os.listdir(base_dir)[:2]:\n",
        "#   carm_path=os.path.join(base_dir,carm)\n",
        "#   dataset=load_dataset(carm_path)\n",
        "#   for fol in os.listdir(carm_path):\n",
        "#     sub,inv = dataset.subset(description=fol)\n",
        "#     x.append(sub.displacements(['x', 'y', 'z'])[0])\n",
        "#     y.append(sub.displacements(['x', 'y', 'z'])[1])\n",
        "#     test_errors.append(sub.errors())\n",
        "#     X.append(inv.displacements(['x', 'y', 'z'])[0])\n",
        "#     Y.append(inv.displacements(['x', 'y', 'z'])[1])\n",
        "#     train_errors.append(inv.errors())\n",
        "base_dir=\"/content/gdrive/My Drive/daad/data\"\n",
        "X=[]##trainx\n",
        "Y=[]##trainy\n",
        "#for carm in os.listdir(base_dir)[1]:\n",
        "carm_path=os.path.join(base_dir,os.listdir(base_dir)[0])\n",
        "dataset=load_dataset(carm_path)\n",
        "for fol in os.listdir(carm_path):\n",
        "  sub,inv = dataset.subset(description=fol)\n",
        "  X.append(inv.displacements(['x', 'y', 'z'])[0])\n",
        "  Y.append(inv.displacements(['x', 'y', 'z'])[1])\n",
        "  #train_errors.append(inv.errors())\n",
        "\n",
        "\n",
        "x=[]##testx\n",
        "y=[]##testy\n",
        "carm_path=os.path.join(base_dir,os.listdir(base_dir)[1])\n",
        "dataset=load_dataset(carm_path)\n",
        "for fol in os.listdir(carm_path):\n",
        "  sub,inv = dataset.subset(description=fol)\n",
        "  x.append(inv.displacements(['x', 'y', 'z'])[0])\n",
        "  y.append(inv.displacements(['x', 'y', 'z'])[1])\n",
        "  #train_errors.append(inv.errors())"
      ],
      "execution_count": 10,
      "outputs": []
    },
    {
      "cell_type": "code",
      "metadata": {
        "id": "9cFIqirq-QZw",
        "colab_type": "code",
        "colab": {}
      },
      "source": [
        "# tre=flatten_first_dim(train_errors)\n",
        "# tee=flatten_first_dim(test_errors)"
      ],
      "execution_count": 11,
      "outputs": []
    },
    {
      "cell_type": "code",
      "metadata": {
        "id": "d0wCPmroC16E",
        "colab_type": "code",
        "colab": {}
      },
      "source": [
        "xtrain=flatten_first_dim(X)##sensor points \n",
        "ytrain=flatten_first_dim(Y)##gnd truth points\n",
        "xtest=flatten_first_dim(x)\n",
        "ytest=flatten_first_dim(y)"
      ],
      "execution_count": 12,
      "outputs": []
    },
    {
      "cell_type": "code",
      "metadata": {
        "id": "YHHiz0_1jeIL",
        "colab_type": "code",
        "colab": {
          "base_uri": "https://localhost:8080/",
          "height": 50
        },
        "outputId": "c3e295bb-264f-4959-a7c3-65b8753f54ca"
      },
      "source": [
        "xtrain.max(axis=0)"
      ],
      "execution_count": 13,
      "outputs": [
        {
          "output_type": "execute_result",
          "data": {
            "text/plain": [
              "array([235.454   , 352.14    ,  30.781348, 235.454   , 352.14    ,\n",
              "        30.781348])"
            ]
          },
          "metadata": {
            "tags": []
          },
          "execution_count": 13
        }
      ]
    },
    {
      "cell_type": "code",
      "metadata": {
        "id": "cLYfpSBUh3EF",
        "colab_type": "code",
        "colab": {
          "base_uri": "https://localhost:8080/",
          "height": 33
        },
        "outputId": "2d1a46da-e31b-4160-9a65-97dd3cbab371"
      },
      "source": [
        "train_max_x=max(xtrain.max(axis=0)[0],xtrain.max(axis=0)[3])\n",
        "train_max_y=max(xtrain.max(axis=0)[1],xtrain.max(axis=0)[4])\n",
        "train_max_z=max(xtrain.max(axis=0)[2],xtrain.max(axis=0)[5])\n",
        "\n",
        "train_min_x=min(xtrain.min(axis=0)[0],xtrain.min(axis=0)[3])\n",
        "train_min_y=min(xtrain.min(axis=0)[1],xtrain.min(axis=0)[4])\n",
        "train_min_z=min(xtrain.min(axis=0)[2],xtrain.min(axis=0)[5])\n",
        "\n",
        "print(\"xmax: {}, xmin: {}, ymax: {}, ymin: {}, zmax: {}, zmin: {}\".format(train_max_x,train_min_x,train_max_y,train_min_y,train_max_z,train_min_z))"
      ],
      "execution_count": 14,
      "outputs": [
        {
          "output_type": "stream",
          "text": [
            "xmax: 235.454, xmin: 63.11099999999999, ymax: 352.14, ymin: 24.085000000000008, zmax: 30.781348, zmin: 22.40977\n"
          ],
          "name": "stdout"
        }
      ]
    },
    {
      "cell_type": "code",
      "metadata": {
        "id": "JR0-tEAYl06l",
        "colab_type": "code",
        "colab": {
          "base_uri": "https://localhost:8080/",
          "height": 33
        },
        "outputId": "3e6e2667-3db0-4a27-9ca1-d75ee64d6e68"
      },
      "source": [
        "test_max_x=max(xtest.max(axis=0)[0],xtest.max(axis=0)[3])\n",
        "test_max_y=max(xtest.max(axis=0)[1],xtest.max(axis=0)[4])\n",
        "test_max_z=max(xtest.max(axis=0)[2],xtest.max(axis=0)[5])\n",
        "\n",
        "test_min_x=min(xtest.min(axis=0)[0],xtest.min(axis=0)[3])\n",
        "test_min_y=min(xtest.min(axis=0)[1],xtest.min(axis=0)[4])\n",
        "test_min_z=min(xtest.min(axis=0)[2],xtest.min(axis=0)[5])\n",
        "\n",
        "print(\"xmax: {}, xmin: {}, ymax: {}, ymin: {}, zmax: {}, zmin: {}\".format(test_max_x,test_min_x,test_max_y,test_min_y,test_max_z,test_min_z))"
      ],
      "execution_count": 15,
      "outputs": [
        {
          "output_type": "stream",
          "text": [
            "xmax: 229.20300000000003, xmin: 61.548, ymax: 355.935, ymin: 25.312999999999988, zmax: 24.53057, zmin: 15.0428\n"
          ],
          "name": "stdout"
        }
      ]
    },
    {
      "cell_type": "code",
      "metadata": {
        "id": "NkomdMNkhWyV",
        "colab_type": "code",
        "colab": {
          "base_uri": "https://localhost:8080/",
          "height": 131
        },
        "outputId": "c5381568-db86-4db9-eaba-d525b4048314"
      },
      "source": [
        "xtrain"
      ],
      "execution_count": 15,
      "outputs": [
        {
          "output_type": "execute_result",
          "data": {
            "text/plain": [
              "array([[ 63.111  , 151.4448 ,  24.1957 ,  63.111  , 151.4448 ,  24.1957 ],\n",
              "       [ 63.111  , 151.4448 ,  24.1957 ,  65.232  , 228.3518 ,  22.96787],\n",
              "       [ 63.111  , 151.4448 ,  24.1957 , 104.857  , 188.2798 ,  26.98623],\n",
              "       ...,\n",
              "       [235.454  , 346.     ,  26.76299, 231.324  , 268.647  ,  26.98623],\n",
              "       [235.454  , 346.     ,  26.76299, 231.324  , 268.647  ,  27.09785],\n",
              "       [235.454  , 346.     ,  26.76299, 235.454  , 346.     ,  26.76299]])"
            ]
          },
          "metadata": {
            "tags": []
          },
          "execution_count": 15
        }
      ]
    },
    {
      "cell_type": "code",
      "metadata": {
        "id": "1TggCnTemFBS",
        "colab_type": "code",
        "colab": {
          "base_uri": "https://localhost:8080/",
          "height": 131
        },
        "outputId": "b0b895f3-ca94-495a-8e7d-6a772eee88a2"
      },
      "source": [
        "xtest"
      ],
      "execution_count": 16,
      "outputs": [
        {
          "output_type": "execute_result",
          "data": {
            "text/plain": [
              "array([[ 61.548  ,  27.211  ,  17.3868 ,  61.548  ,  27.211  ,  17.3868 ],\n",
              "       [ 61.548  ,  27.211  ,  17.3868 ,  61.883  ,  74.091  ,  16.4938 ],\n",
              "       [ 61.548  ,  27.211  ,  17.3868 ,  62.106  ,  97.643  ,  16.0474 ],\n",
              "       ...,\n",
              "       [229.203  , 348.456  ,  21.5168 , 187.233  , 311.175  ,  20.17734],\n",
              "       [229.203  , 348.456  ,  21.5168 , 225.631  , 270.991  ,  22.18652],\n",
              "       [229.203  , 348.456  ,  21.5168 , 229.203  , 348.456  ,  21.5168 ]])"
            ]
          },
          "metadata": {
            "tags": []
          },
          "execution_count": 16
        }
      ]
    },
    {
      "cell_type": "code",
      "metadata": {
        "id": "KFfo9bgTlMed",
        "colab_type": "code",
        "colab": {
          "base_uri": "https://localhost:8080/",
          "height": 50
        },
        "outputId": "c118b747-6ec7-4e30-9a2c-0684a6f62775"
      },
      "source": [
        "(xtrain[:,3]-train_min_x)/train_max_x"
      ],
      "execution_count": 17,
      "outputs": [
        {
          "output_type": "execute_result",
          "data": {
            "text/plain": [
              "array([0.        , 0.00900813, 0.17730002, ..., 0.7144198 , 0.7144198 ,\n",
              "       0.73196038])"
            ]
          },
          "metadata": {
            "tags": []
          },
          "execution_count": 17
        }
      ]
    },
    {
      "cell_type": "code",
      "metadata": {
        "id": "uMfhU0EolMiM",
        "colab_type": "code",
        "colab": {
          "base_uri": "https://localhost:8080/",
          "height": 33
        },
        "outputId": "683eb354-5c32-466f-ff54-b7261de39500"
      },
      "source": [
        "xtrain[:,0]"
      ],
      "execution_count": 18,
      "outputs": [
        {
          "output_type": "execute_result",
          "data": {
            "text/plain": [
              "array([ 63.111,  63.111,  63.111, ..., 235.454, 235.454, 235.454])"
            ]
          },
          "metadata": {
            "tags": []
          },
          "execution_count": 18
        }
      ]
    },
    {
      "cell_type": "code",
      "metadata": {
        "id": "thFthY8t7Swi",
        "colab_type": "code",
        "colab": {}
      },
      "source": [
        "def calc_errors(D,M):\n",
        "  d_D = np.linalg.norm(D[:, 0:3] - D[:, 3:6], axis=1)\n",
        "  d_M = np.linalg.norm(M[:, 0:3] - M[:, 3:6], axis=1)\n",
        "  E = d_D - d_M\n",
        "  return E"
      ],
      "execution_count": 16,
      "outputs": []
    },
    {
      "cell_type": "code",
      "metadata": {
        "id": "jut5KzRLyJil",
        "colab_type": "code",
        "colab": {
          "base_uri": "https://localhost:8080/",
          "height": 33
        },
        "outputId": "f5fd6746-aff7-4008-e21c-989c71e61899"
      },
      "source": [
        "calc_errors(xtrain,ytrain).mean()"
      ],
      "execution_count": 20,
      "outputs": [
        {
          "output_type": "execute_result",
          "data": {
            "text/plain": [
              "-0.16875601368422447"
            ]
          },
          "metadata": {
            "tags": []
          },
          "execution_count": 20
        }
      ]
    },
    {
      "cell_type": "code",
      "metadata": {
        "id": "-zrHOKkpey6n",
        "colab_type": "code",
        "colab": {}
      },
      "source": [
        "#####Normalizing the data\n",
        "xtrain[:,0]=(xtrain[:,0]-train_min_x)/train_max_x\n",
        "xtrain[:,3]=(xtrain[:,3]-train_min_x)/train_max_x\n",
        "\n",
        "xtrain[:,1]=(xtrain[:,1]-train_min_y)/train_max_y\n",
        "xtrain[:,4]=(xtrain[:,4]-train_min_y)/train_max_y\n",
        "\n",
        "xtrain[:,2]=(xtrain[:,2]-train_min_z)/train_max_z\n",
        "xtrain[:,5]=(xtrain[:,5]-train_min_z)/train_max_z"
      ],
      "execution_count": 17,
      "outputs": []
    },
    {
      "cell_type": "code",
      "metadata": {
        "id": "LfnJnGysmBAz",
        "colab_type": "code",
        "colab": {}
      },
      "source": [
        "#####Normalizing the data\n",
        "xtest[:,0]=(xtest[:,0]-test_min_x)/test_max_x\n",
        "xtest[:,3]=(xtest[:,3]-test_min_x)/test_max_x\n",
        "\n",
        "xtest[:,1]=(xtest[:,1]-test_min_y)/test_max_y\n",
        "xtest[:,4]=(xtest[:,4]-test_min_y)/test_max_y\n",
        "\n",
        "xtest[:,2]=(xtest[:,2]-test_min_z)/test_max_z\n",
        "xtest[:,5]=(xtest[:,5]-test_min_z)/test_max_z\n"
      ],
      "execution_count": 18,
      "outputs": []
    },
    {
      "cell_type": "code",
      "metadata": {
        "id": "VqRBj6rzey_H",
        "colab_type": "code",
        "colab": {
          "base_uri": "https://localhost:8080/",
          "height": 228
        },
        "outputId": "e577bd09-148f-40c1-a11a-df2f823260ca"
      },
      "source": [
        "xtrain"
      ],
      "execution_count": 23,
      "outputs": [
        {
          "output_type": "execute_result",
          "data": {
            "text/plain": [
              "array([[0.        , 0.36167377, 0.05801988, 0.        , 0.36167377,\n",
              "        0.05801988],\n",
              "       [0.        , 0.36167377, 0.05801988, 0.00900813, 0.5800727 ,\n",
              "        0.01813111],\n",
              "       [0.        , 0.36167377, 0.05801988, 0.17730002, 0.46627705,\n",
              "        0.1486764 ],\n",
              "       ...,\n",
              "       [0.73196038, 0.91416766, 0.14142396, 0.7144198 , 0.69450219,\n",
              "        0.1486764 ],\n",
              "       [0.73196038, 0.91416766, 0.14142396, 0.7144198 , 0.69450219,\n",
              "        0.15230262],\n",
              "       [0.73196038, 0.91416766, 0.14142396, 0.73196038, 0.91416766,\n",
              "        0.14142396]])"
            ]
          },
          "metadata": {
            "tags": []
          },
          "execution_count": 23
        }
      ]
    },
    {
      "cell_type": "code",
      "metadata": {
        "id": "RLH6O_ThmRxw",
        "colab_type": "code",
        "colab": {
          "base_uri": "https://localhost:8080/",
          "height": 228
        },
        "outputId": "9d3a2ae1-1551-4b93-95ab-78b4f0f91e0d"
      },
      "source": [
        "xtest"
      ],
      "execution_count": 24,
      "outputs": [
        {
          "output_type": "execute_result",
          "data": {
            "text/plain": [
              "array([[0.        , 0.00533243, 0.09555424, 0.        , 0.00533243,\n",
              "        0.09555424],\n",
              "       [0.        , 0.00533243, 0.09555424, 0.00146159, 0.13704188,\n",
              "        0.05915068],\n",
              "       [0.        , 0.00533243, 0.09555424, 0.00243452, 0.20321126,\n",
              "        0.04095298],\n",
              "       ...,\n",
              "       [0.73146948, 0.90787082, 0.2639156 , 0.5483567 , 0.80312978,\n",
              "        0.20931189],\n",
              "       [0.73146948, 0.90787082, 0.2639156 , 0.71588505, 0.69023277,\n",
              "        0.29121704],\n",
              "       [0.73146948, 0.90787082, 0.2639156 , 0.73146948, 0.90787082,\n",
              "        0.2639156 ]])"
            ]
          },
          "metadata": {
            "tags": []
          },
          "execution_count": 24
        }
      ]
    },
    {
      "cell_type": "code",
      "metadata": {
        "id": "wct4KXup8QOi",
        "colab_type": "code",
        "colab": {}
      },
      "source": [
        "######-------------NOT REQUIRED----------------------------\n",
        "\n",
        "##xtrain_norm,xtrain_min,xtrain_max=Normalize(xtrain)\n",
        "##xtest_norm,xtest_min,xtest_max=Normalize(xtest)\n",
        "##ytrain_norm,ytrain_min,ytrain_max=Normalize(ytrain)\n",
        "##ytest_norm,ytest_min,ytest_max=Normalize(ytest)"
      ],
      "execution_count": null,
      "outputs": []
    },
    {
      "cell_type": "code",
      "metadata": {
        "id": "Fi3kpPJkHBGr",
        "colab_type": "code",
        "colab": {
          "base_uri": "https://localhost:8080/",
          "height": 33
        },
        "outputId": "5b59329c-4179-4711-a408-27ac85b96caf"
      },
      "source": [
        "xtrain.shape"
      ],
      "execution_count": 19,
      "outputs": [
        {
          "output_type": "execute_result",
          "data": {
            "text/plain": [
              "(108018, 6)"
            ]
          },
          "metadata": {
            "tags": []
          },
          "execution_count": 19
        }
      ]
    },
    {
      "cell_type": "code",
      "metadata": {
        "id": "_TeEEzsIHBsC",
        "colab_type": "code",
        "colab": {
          "base_uri": "https://localhost:8080/",
          "height": 33
        },
        "outputId": "216b2005-5fc4-4d07-e2bd-6dd84278395c"
      },
      "source": [
        "xtest.shape"
      ],
      "execution_count": 20,
      "outputs": [
        {
          "output_type": "execute_result",
          "data": {
            "text/plain": [
              "(17000, 6)"
            ]
          },
          "metadata": {
            "tags": []
          },
          "execution_count": 20
        }
      ]
    },
    {
      "cell_type": "code",
      "metadata": {
        "id": "tgaEbPWzCcy9",
        "colab_type": "code",
        "colab": {}
      },
      "source": [
        ""
      ],
      "execution_count": null,
      "outputs": []
    },
    {
      "cell_type": "code",
      "metadata": {
        "id": "G4NndIv_AjgE",
        "colab_type": "code",
        "colab": {}
      },
      "source": [
        "assert(xtrain.shape == ytrain.shape)\n",
        "assert(xtest.shape == ytest.shape)\n",
        "#assert( np.unique(calc_errors(xtrain,ytrain) == tre))\n",
        "#assert( np.unique(calc_errors(xtest,ytest) == tee))"
      ],
      "execution_count": 21,
      "outputs": []
    },
    {
      "cell_type": "markdown",
      "metadata": {
        "id": "kj8Rfdf_6CzL",
        "colab_type": "text"
      },
      "source": [
        "### NOT REQUIRED"
      ]
    },
    {
      "cell_type": "code",
      "metadata": {
        "id": "QRFwUl506d1C",
        "colab_type": "code",
        "colab": {
          "base_uri": "https://localhost:8080/",
          "height": 33
        },
        "outputId": "34b11615-19a4-40d9-c515-d41d8099e149"
      },
      "source": [
        "calc_errors(xtrain,ytrain).mean()"
      ],
      "execution_count": null,
      "outputs": [
        {
          "output_type": "execute_result",
          "data": {
            "text/plain": [
              "-51.540669517555926"
            ]
          },
          "metadata": {
            "tags": []
          },
          "execution_count": 27
        }
      ]
    },
    {
      "cell_type": "code",
      "metadata": {
        "id": "TUiX5Isyts4t",
        "colab_type": "code",
        "colab": {
          "base_uri": "https://localhost:8080/",
          "height": 228
        },
        "outputId": "ced26ac5-0eb5-43a0-cf0d-4cbd785f2ae1"
      },
      "source": [
        "xtrain"
      ],
      "execution_count": null,
      "outputs": [
        {
          "output_type": "execute_result",
          "data": {
            "text/plain": [
              "array([[0.00663824, 0.35781758, 0.29735215, 0.00663824, 0.35781758,\n",
              "        0.29735215],\n",
              "       [0.00663824, 0.35781758, 0.29735215, 0.01564637, 0.57388793,\n",
              "        0.25746338],\n",
              "       [0.00663824, 0.35781758, 0.29735215, 0.18393826, 0.46130558,\n",
              "        0.38800867],\n",
              "       ...,\n",
              "       [0.71204991, 0.91132089, 0.21032217, 0.53379853, 0.80657985,\n",
              "        0.16680686],\n",
              "       [0.71204991, 0.91132089, 0.21032217, 0.69687922, 0.69368284,\n",
              "        0.2320795 ],\n",
              "       [0.71204991, 0.91132089, 0.21032217, 0.71204991, 0.91132089,\n",
              "        0.21032217]])"
            ]
          },
          "metadata": {
            "tags": []
          },
          "execution_count": 28
        }
      ]
    },
    {
      "cell_type": "code",
      "metadata": {
        "id": "A9e0WkYz4Lh2",
        "colab_type": "code",
        "colab": {}
      },
      "source": [
        ""
      ],
      "execution_count": null,
      "outputs": []
    },
    {
      "cell_type": "code",
      "metadata": {
        "id": "4YbnV3qCtuzB",
        "colab_type": "code",
        "colab": {
          "base_uri": "https://localhost:8080/",
          "height": 158
        },
        "outputId": "42d32eaf-e2e6-4c95-ad6e-e06340a19182"
      },
      "source": [
        "temp"
      ],
      "execution_count": null,
      "outputs": [
        {
          "output_type": "error",
          "ename": "NameError",
          "evalue": "ignored",
          "traceback": [
            "\u001b[0;31m---------------------------------------------------------------------------\u001b[0m",
            "\u001b[0;31mNameError\u001b[0m                                 Traceback (most recent call last)",
            "\u001b[0;32m<ipython-input-29-da77557ed0c8>\u001b[0m in \u001b[0;36m<module>\u001b[0;34m()\u001b[0m\n\u001b[0;32m----> 1\u001b[0;31m \u001b[0mtemp\u001b[0m\u001b[0;34m\u001b[0m\u001b[0;34m\u001b[0m\u001b[0m\n\u001b[0m",
            "\u001b[0;31mNameError\u001b[0m: name 'temp' is not defined"
          ]
        }
      ]
    },
    {
      "cell_type": "code",
      "metadata": {
        "id": "_lBkLdcDql9q",
        "colab_type": "code",
        "colab": {}
      },
      "source": [
        "temp=xtrain\n",
        "temp2=ytrain"
      ],
      "execution_count": null,
      "outputs": []
    },
    {
      "cell_type": "code",
      "metadata": {
        "id": "FVKolfDbqjsU",
        "colab_type": "code",
        "colab": {}
      },
      "source": [
        "temp=torch.tensor(temp).float()\n",
        "temp2=torch.tensor(temp2).float()"
      ],
      "execution_count": null,
      "outputs": []
    },
    {
      "cell_type": "code",
      "metadata": {
        "id": "JdLfHLHMwBaZ",
        "colab_type": "code",
        "colab": {}
      },
      "source": [
        "temp"
      ],
      "execution_count": null,
      "outputs": []
    },
    {
      "cell_type": "code",
      "metadata": {
        "id": "y6jGHgy7v-H6",
        "colab_type": "code",
        "colab": {}
      },
      "source": [
        "temp = temp.view(temp.shape[0], -1)\n",
        "temp2 = temp2.view(temp2.shape[0], -1)"
      ],
      "execution_count": null,
      "outputs": []
    },
    {
      "cell_type": "code",
      "metadata": {
        "id": "udxZp6pIsD6d",
        "colab_type": "code",
        "colab": {}
      },
      "source": [
        "d=torch.norm(temp[:,:3]-temp[:,3:])\n",
        "dcap=torch.norm(temp2[:,:3]-temp2[:,3:])"
      ],
      "execution_count": null,
      "outputs": []
    },
    {
      "cell_type": "code",
      "metadata": {
        "id": "P4I3yu0jwWxx",
        "colab_type": "code",
        "colab": {}
      },
      "source": [
        "temp2[:,:3]-temp2[:,3:]"
      ],
      "execution_count": null,
      "outputs": []
    },
    {
      "cell_type": "code",
      "metadata": {
        "id": "qaVJ72AVwcL7",
        "colab_type": "code",
        "colab": {}
      },
      "source": [
        "ytrain[:, 0:3] - ytrain[:, 3:6]"
      ],
      "execution_count": null,
      "outputs": []
    },
    {
      "cell_type": "code",
      "metadata": {
        "id": "zhG0Veo3sIxN",
        "colab_type": "code",
        "colab": {}
      },
      "source": [
        "np.linalg.norm(ytrain[:, 0:3] - ytrain[:, 3:6], axis=1)"
      ],
      "execution_count": null,
      "outputs": []
    },
    {
      "cell_type": "code",
      "metadata": {
        "id": "b6Eb1hXowOH4",
        "colab_type": "code",
        "colab": {}
      },
      "source": [
        "torch.norm(temp2[:,:3]-temp2[:,3:],2,1)"
      ],
      "execution_count": null,
      "outputs": []
    },
    {
      "cell_type": "code",
      "metadata": {
        "id": "XiQV_wSN2hhU",
        "colab_type": "code",
        "colab": {}
      },
      "source": [
        "#sum=0\n",
        "#for i in range(len(p)):\n",
        "#  sum=sum+p[i]*p[i]"
      ],
      "execution_count": null,
      "outputs": []
    },
    {
      "cell_type": "code",
      "metadata": {
        "id": "L-207kQS2hWb",
        "colab_type": "code",
        "colab": {}
      },
      "source": [
        "#sum2=0\n",
        "#for i in range(len(p)):\n",
        "#  sum2=sum2+q[i]*q[i]"
      ],
      "execution_count": null,
      "outputs": []
    },
    {
      "cell_type": "code",
      "metadata": {
        "id": "qGTgcRiI2hQe",
        "colab_type": "code",
        "colab": {}
      },
      "source": [
        "#sum"
      ],
      "execution_count": null,
      "outputs": []
    },
    {
      "cell_type": "code",
      "metadata": {
        "id": "v0zkD-qr2vIs",
        "colab_type": "code",
        "colab": {}
      },
      "source": [
        "#sum2"
      ],
      "execution_count": null,
      "outputs": []
    },
    {
      "cell_type": "code",
      "metadata": {
        "id": "0vH2v4VLwRUj",
        "colab_type": "code",
        "colab": {}
      },
      "source": [
        "np.linalg.norm(p,axis=0)"
      ],
      "execution_count": null,
      "outputs": []
    },
    {
      "cell_type": "code",
      "metadata": {
        "id": "DmLFuyKP245f",
        "colab_type": "code",
        "colab": {}
      },
      "source": [
        "torch.norm(q)"
      ],
      "execution_count": null,
      "outputs": []
    },
    {
      "cell_type": "code",
      "metadata": {
        "id": "9g0TLVNq3akT",
        "colab_type": "code",
        "colab": {}
      },
      "source": [
        "d=torch.norm(temp[:,:3]-temp[:,3:],2,1)\n",
        "dcap=torch.norm(temp2[:,:3]-temp2[:,3:],2,1)"
      ],
      "execution_count": null,
      "outputs": []
    },
    {
      "cell_type": "code",
      "metadata": {
        "id": "gY_ncz2P35s1",
        "colab_type": "code",
        "colab": {}
      },
      "source": [
        "torch.norm(torch.norm(torch.tensor(xtrain[:,:3])-torch.tensor(xtrain[:,3:]),2,1)-torch.norm(temp2[:,:3]-temp2[:,3:],2,1))"
      ],
      "execution_count": null,
      "outputs": []
    },
    {
      "cell_type": "code",
      "metadata": {
        "id": "l-q048gK37V7",
        "colab_type": "code",
        "colab": {}
      },
      "source": [
        "np.linalg.norm(np.linalg.norm(xtrain[:, 0:3] - xtrain[:, 3:6], axis=1)-np.linalg.norm(ytrain[:, 0:3] - ytrain[:, 3:6], axis=1))"
      ],
      "execution_count": null,
      "outputs": []
    },
    {
      "cell_type": "code",
      "metadata": {
        "id": "p-I417zd5Hlx",
        "colab_type": "code",
        "colab": {}
      },
      "source": [
        "(540.927630842572*540.927630842572)/len(xtrain)"
      ],
      "execution_count": null,
      "outputs": []
    },
    {
      "cell_type": "code",
      "metadata": {
        "id": "9DEQ6s6o3fBa",
        "colab_type": "code",
        "colab": {}
      },
      "source": [
        "d-dcap"
      ],
      "execution_count": null,
      "outputs": []
    },
    {
      "cell_type": "code",
      "metadata": {
        "id": "XGnapSLM3e66",
        "colab_type": "code",
        "colab": {}
      },
      "source": [
        "dcap"
      ],
      "execution_count": null,
      "outputs": []
    },
    {
      "cell_type": "code",
      "metadata": {
        "id": "tW8VzuqC23XC",
        "colab_type": "code",
        "colab": {
          "base_uri": "https://localhost:8080/",
          "height": 33
        },
        "outputId": "c8ec9cfd-eedd-4028-ff7e-37b6ec79d6ea"
      },
      "source": [
        "torch"
      ],
      "execution_count": null,
      "outputs": [
        {
          "output_type": "execute_result",
          "data": {
            "text/plain": [
              "<module 'torch' from '/usr/local/lib/python3.6/dist-packages/torch/__init__.py'>"
            ]
          },
          "metadata": {
            "tags": []
          },
          "execution_count": 31
        }
      ]
    },
    {
      "cell_type": "code",
      "metadata": {
        "id": "hK0Q-yZkquT_",
        "colab_type": "code",
        "colab": {}
      },
      "source": [
        "d=torch.dist(temp[:,:3],temp[:,3:])\n",
        "dcap=torch.dist(temp2[:,:3],temp2[:,3:])\n",
        "\n",
        "loss=abs(d-dcap)"
      ],
      "execution_count": null,
      "outputs": []
    },
    {
      "cell_type": "code",
      "metadata": {
        "id": "V6n2az3Dq9VY",
        "colab_type": "code",
        "colab": {}
      },
      "source": [
        "dist=0\n",
        "dist2=0\n",
        "for i in range(0,len(temp)):\n",
        "  dist=dist+torch.dist(temp[i][:3],temp[i][3:])\n",
        "for i in range(0,len(temp2)):\n",
        "  dist2=dist2+torch.dist(temp2[i][:3],temp2[i][3:])"
      ],
      "execution_count": null,
      "outputs": []
    },
    {
      "cell_type": "code",
      "metadata": {
        "id": "pukVogwJrQLd",
        "colab_type": "code",
        "colab": {
          "base_uri": "https://localhost:8080/",
          "height": 33
        },
        "outputId": "db6f499d-a160-43aa-c582-ec8a29bc9b41"
      },
      "source": [
        "dist-dist2"
      ],
      "execution_count": null,
      "outputs": [
        {
          "output_type": "execute_result",
          "data": {
            "text/plain": [
              "tensor(-6443511.4217, dtype=torch.float64)"
            ]
          },
          "metadata": {
            "tags": []
          },
          "execution_count": 33
        }
      ]
    },
    {
      "cell_type": "code",
      "metadata": {
        "id": "PIakq0N8rQHQ",
        "colab_type": "code",
        "colab": {}
      },
      "source": [
        ""
      ],
      "execution_count": null,
      "outputs": []
    },
    {
      "cell_type": "code",
      "metadata": {
        "id": "D4sAzrcLF1H4",
        "colab_type": "code",
        "colab": {}
      },
      "source": [
        "###what does the search and inpect file have????"
      ],
      "execution_count": null,
      "outputs": []
    },
    {
      "cell_type": "markdown",
      "metadata": {
        "id": "tv6-C4-FBeIt",
        "colab_type": "text"
      },
      "source": [
        "## DATALOADER"
      ]
    },
    {
      "cell_type": "code",
      "metadata": {
        "id": "MHBQH9-WL9CW",
        "colab_type": "code",
        "colab": {}
      },
      "source": [
        "x=torch.tensor([1,2,3])"
      ],
      "execution_count": 22,
      "outputs": []
    },
    {
      "cell_type": "code",
      "metadata": {
        "id": "bOgXDz2B_OSq",
        "colab_type": "code",
        "colab": {}
      },
      "source": [
        "class SequenceFolder(data.Dataset):\n",
        "    def __init__(self, x,y):\n",
        "        self.x=x\n",
        "        self.y=y\n",
        "    def __len__(self):\n",
        "        return xtrain_final.shape[0]\n",
        "    def __getitem__(self, index):\n",
        "        x=self.x[index]\n",
        "        y=self.y[index]\n",
        "        \n",
        "        dict_img={'x':x.astype('float64'),'y':y.astype('float64')}\n",
        "        return dict_img"
      ],
      "execution_count": 23,
      "outputs": []
    },
    {
      "cell_type": "code",
      "metadata": {
        "id": "NVb4L2Xpq1on",
        "colab_type": "code",
        "colab": {}
      },
      "source": [
        "#shuffled_indexs_for_training=np.random.randint(low=1, high=5000, size=5000)\n",
        "#shuffled_indexs_for_testing=np.random.randint(low=10000, high=10500, size=5000)"
      ],
      "execution_count": 30,
      "outputs": []
    },
    {
      "cell_type": "code",
      "metadata": {
        "id": "hPnZS5b1TIBp",
        "colab_type": "code",
        "colab": {}
      },
      "source": [
        "xtrain_final=xtrain#[:5000,:]\n",
        "ytrain_final=ytrain#[:5000,:]\n",
        "##xtrain,xtrain_min,xtrain_max=Normalize(xtrain)\n",
        "xtest_final=xtest#[5000:5500,:]\n",
        "ytest_final=ytest#[5000:5500,:]#[shuffled_indexs_for_testing]\n",
        "#xtest,xtext_min,xtest_max=Normalize(xtest)"
      ],
      "execution_count": 24,
      "outputs": []
    },
    {
      "cell_type": "code",
      "metadata": {
        "id": "7UUK-lUGdnEy",
        "colab_type": "code",
        "colab": {
          "base_uri": "https://localhost:8080/",
          "height": 33
        },
        "outputId": "ca10acb4-5767-423b-b24a-a80886828dcc"
      },
      "source": [
        "xtest_final.shape"
      ],
      "execution_count": 25,
      "outputs": [
        {
          "output_type": "execute_result",
          "data": {
            "text/plain": [
              "(17000, 6)"
            ]
          },
          "metadata": {
            "tags": []
          },
          "execution_count": 25
        }
      ]
    },
    {
      "cell_type": "code",
      "metadata": {
        "id": "1V8jVkCa22W7",
        "colab_type": "code",
        "colab": {
          "base_uri": "https://localhost:8080/",
          "height": 228
        },
        "outputId": "0881da22-94e6-493e-e60f-eab20b40d2d3"
      },
      "source": [
        "ytest_final"
      ],
      "execution_count": 26,
      "outputs": [
        {
          "output_type": "execute_result",
          "data": {
            "text/plain": [
              "array([[8.154470e+00, 8.799648e+01, 9.490000e-03, 8.154470e+00,\n",
              "        8.799648e+01, 9.490000e-03],\n",
              "       [8.154470e+00, 8.799648e+01, 9.490000e-03, 8.091810e+00,\n",
              "        4.000201e+01, 7.423000e-02],\n",
              "       [8.154470e+00, 8.799648e+01, 9.490000e-03, 8.118110e+00,\n",
              "        1.608279e+01, 6.252000e-02],\n",
              "       ...,\n",
              "       [8.804630e+01, 8.073930e+00, 9.490000e-03, 4.806690e+01,\n",
              "        4.802920e+01, 9.490000e-03],\n",
              "       [8.804630e+01, 8.073930e+00, 9.490000e-03, 8.798764e+01,\n",
              "        8.794312e+01, 9.490000e-03],\n",
              "       [8.804630e+01, 8.073930e+00, 9.490000e-03, 8.804630e+01,\n",
              "        8.073930e+00, 9.490000e-03]])"
            ]
          },
          "metadata": {
            "tags": []
          },
          "execution_count": 26
        }
      ]
    },
    {
      "cell_type": "code",
      "metadata": {
        "id": "VMA2F4Rn3raE",
        "colab_type": "code",
        "colab": {
          "base_uri": "https://localhost:8080/",
          "height": 33
        },
        "outputId": "6637460d-e0f8-41a4-e7b0-fe64cbf6d05c"
      },
      "source": [
        "xtrain_final.shape"
      ],
      "execution_count": 27,
      "outputs": [
        {
          "output_type": "execute_result",
          "data": {
            "text/plain": [
              "(108018, 6)"
            ]
          },
          "metadata": {
            "tags": []
          },
          "execution_count": 27
        }
      ]
    },
    {
      "cell_type": "code",
      "metadata": {
        "id": "EP8-ULVIf_Zk",
        "colab_type": "code",
        "colab": {
          "base_uri": "https://localhost:8080/",
          "height": 228
        },
        "outputId": "3555a1d6-6584-408a-c8ff-66e4cdd349b1"
      },
      "source": [
        "ytrain_final"
      ],
      "execution_count": 28,
      "outputs": [
        {
          "output_type": "execute_result",
          "data": {
            "text/plain": [
              "array([[8.804630e+01, 8.073930e+00, 9.490000e-03, 8.804630e+01,\n",
              "        8.073930e+00, 9.490000e-03],\n",
              "       [8.804630e+01, 8.073930e+00, 9.490000e-03, 8.798764e+01,\n",
              "        8.794312e+01, 9.490000e-03],\n",
              "       [8.804630e+01, 8.073930e+00, 9.490000e-03, 4.806690e+01,\n",
              "        4.802920e+01, 9.490000e-03],\n",
              "       ...,\n",
              "       [8.804630e+01, 8.073930e+00, 9.490000e-03, 8.798764e+01,\n",
              "        8.794312e+01, 9.490000e-03],\n",
              "       [8.804630e+01, 8.073930e+00, 9.490000e-03, 8.798764e+01,\n",
              "        8.794312e+01, 9.490000e-03],\n",
              "       [8.804630e+01, 8.073930e+00, 9.490000e-03, 8.804630e+01,\n",
              "        8.073930e+00, 9.490000e-03]])"
            ]
          },
          "metadata": {
            "tags": []
          },
          "execution_count": 28
        }
      ]
    },
    {
      "cell_type": "code",
      "metadata": {
        "id": "wvOfQispAABs",
        "colab_type": "code",
        "colab": {
          "base_uri": "https://localhost:8080/",
          "height": 50
        },
        "outputId": "8ea59145-3ee8-4dff-960b-dac403a92e22"
      },
      "source": [
        "ytrain_final[:2,:3]"
      ],
      "execution_count": 29,
      "outputs": [
        {
          "output_type": "execute_result",
          "data": {
            "text/plain": [
              "array([[8.80463e+01, 8.07393e+00, 9.49000e-03],\n",
              "       [8.80463e+01, 8.07393e+00, 9.49000e-03]])"
            ]
          },
          "metadata": {
            "tags": []
          },
          "execution_count": 29
        }
      ]
    },
    {
      "cell_type": "code",
      "metadata": {
        "id": "nVE5pmjaABdo",
        "colab_type": "code",
        "colab": {
          "base_uri": "https://localhost:8080/",
          "height": 50
        },
        "outputId": "376ac790-525d-484e-93fd-ad1962736a5e"
      },
      "source": [
        "ytrain_final[:2,3:]"
      ],
      "execution_count": 30,
      "outputs": [
        {
          "output_type": "execute_result",
          "data": {
            "text/plain": [
              "array([[8.804630e+01, 8.073930e+00, 9.490000e-03],\n",
              "       [8.798764e+01, 8.794312e+01, 9.490000e-03]])"
            ]
          },
          "metadata": {
            "tags": []
          },
          "execution_count": 30
        }
      ]
    },
    {
      "cell_type": "code",
      "metadata": {
        "id": "Zdr4O-rn_PGm",
        "colab_type": "code",
        "colab": {
          "base_uri": "https://localhost:8080/",
          "height": 33
        },
        "outputId": "7ef8fbd1-1247-4da8-c64d-0f6bba9e7ebe"
      },
      "source": [
        "np.sqrt(np.sum(np.linalg.norm(ytrain_final[1:2,:3]-ytrain_final[1:2,3:],axis=1)))"
      ],
      "execution_count": 31,
      "outputs": [
        {
          "output_type": "execute_result",
          "data": {
            "text/plain": [
              "8.936957622224833"
            ]
          },
          "metadata": {
            "tags": []
          },
          "execution_count": 31
        }
      ]
    },
    {
      "cell_type": "code",
      "metadata": {
        "id": "CcEoXzv-IUum",
        "colab_type": "code",
        "colab": {}
      },
      "source": [
        "train=SequenceFolder(xtrain_final,ytrain_final)\n",
        "test=SequenceFolder(xtest_final,ytest_final)"
      ],
      "execution_count": 32,
      "outputs": []
    },
    {
      "cell_type": "code",
      "metadata": {
        "id": "RrFZLAbZBi7b",
        "colab_type": "code",
        "colab": {}
      },
      "source": [
        "train_dataloader=torch.utils.data.DataLoader(train,batch_size=32,shuffle=True)"
      ],
      "execution_count": 33,
      "outputs": []
    },
    {
      "cell_type": "code",
      "metadata": {
        "id": "DpywYFiZIoCA",
        "colab_type": "code",
        "colab": {}
      },
      "source": [
        "for a,b in enumerate(train_dataloader):\n",
        "  break"
      ],
      "execution_count": 34,
      "outputs": []
    },
    {
      "cell_type": "code",
      "metadata": {
        "id": "zDeMPPKql8Yt",
        "colab_type": "code",
        "colab": {}
      },
      "source": [
        "########################-------------------------Clippping Value---------------------\n",
        "\n",
        "#clipping_value = 1 # arbitrary value of your choosing\n",
        "#torch.nn.utils.clip_grad_norm(model.parameters(), clipping_value)\n"
      ],
      "execution_count": null,
      "outputs": []
    },
    {
      "cell_type": "markdown",
      "metadata": {
        "id": "n1rdKfcLs_nI",
        "colab_type": "text"
      },
      "source": [
        "## NETWORK"
      ]
    },
    {
      "cell_type": "code",
      "metadata": {
        "id": "Nw3am2mzs-tf",
        "colab_type": "code",
        "colab": {}
      },
      "source": [
        "class Network(torch.nn.Module):\n",
        "  def __init__(self):\n",
        "    super(Network,self).__init__()\n",
        "    self.layer1=nn.Sequential(nn.Linear(3,15),nn.LeakyReLU(0.2))\n",
        "    self.layer2=nn.Sequential(nn.Linear(15,50),nn.LeakyReLU(0.2))#,nn.Dropout(0.9))\n",
        "    self.layer3=nn.Sequential(nn.Linear(50,8),nn.LeakyReLU(0.2))#,nn.Dropout(0.9))\n",
        "\n",
        "    self.skip_layer=nn.Sequential(nn.Linear(3,7),nn.LeakyReLU(0.2))\n",
        "\n",
        "    self.layer4=nn.Sequential(nn.Linear(15,3))\n",
        "  def forward(self,xa):\n",
        "    skip=self.skip_layer(xa)\n",
        "\n",
        "    xa=self.layer1(xa)\n",
        "    xa=self.layer2(xa)\n",
        "    xa=self.layer3(xa)\n",
        "\n",
        "    skip_concat=torch.cat((skip,xa),1)\n",
        "\n",
        "    xa=self.layer4(skip_concat)\n",
        "\n",
        "    return xa"
      ],
      "execution_count": 64,
      "outputs": []
    },
    {
      "cell_type": "code",
      "metadata": {
        "id": "ArdF-mvbB26h",
        "colab_type": "code",
        "colab": {}
      },
      "source": [
        "#siamese=Network()"
      ],
      "execution_count": 65,
      "outputs": []
    },
    {
      "cell_type": "code",
      "metadata": {
        "id": "b_DYZ9me7fA1",
        "colab_type": "code",
        "colab": {}
      },
      "source": [
        "cuda=torch.device('cuda:0')\n",
        "siamese=Network().to(cuda)\n",
        "optimizer=optim.Adam(siamese.parameters(),lr=2e-4,betas=(0.5,0.999))"
      ],
      "execution_count": 66,
      "outputs": []
    },
    {
      "cell_type": "code",
      "metadata": {
        "id": "rzUAGblsmUI7",
        "colab_type": "code",
        "colab": {}
      },
      "source": [
        "mse=nn.MSELoss()\n",
        "l1loss=nn.L1Loss()\n",
        "bceloss=nn.BCELoss()\n",
        "kld=nn.KLDivLoss()"
      ],
      "execution_count": 67,
      "outputs": []
    },
    {
      "cell_type": "code",
      "metadata": {
        "id": "lSCQ8hfDTaH6",
        "colab_type": "code",
        "colab": {}
      },
      "source": [
        ""
      ],
      "execution_count": 67,
      "outputs": []
    },
    {
      "cell_type": "code",
      "metadata": {
        "id": "e9BKP7MWTi5R",
        "colab_type": "code",
        "colab": {}
      },
      "source": [
        "#x=torch.tensor([1,2,3]).float()\n",
        "#y=torch.tensor([2,2,2]).float()\n",
        "#torch.dist(x,y)"
      ],
      "execution_count": 68,
      "outputs": []
    },
    {
      "cell_type": "code",
      "metadata": {
        "id": "YMkpVkhUpbHB",
        "colab_type": "code",
        "colab": {}
      },
      "source": [
        "\n",
        "#fake_error.shape\n",
        "from torch.autograd import Variable"
      ],
      "execution_count": 69,
      "outputs": []
    },
    {
      "cell_type": "code",
      "metadata": {
        "id": "qz3av23WsTH1",
        "colab_type": "code",
        "colab": {}
      },
      "source": [
        "#torch.cat((fake_error.view(batch_s,1).float().to(cuda),real_error.view(batch_s,1).float().to(cuda)),1).shape\n",
        "#torch.cat((torch.zeros(batch_s,1).to(cuda),torch.ones(batch_s,1).to(cuda)),1).shape"
      ],
      "execution_count": 70,
      "outputs": []
    },
    {
      "cell_type": "code",
      "metadata": {
        "id": "4KbM0t-roorO",
        "colab_type": "code",
        "colab": {}
      },
      "source": [
        "def test_loss(model):\n",
        "  input_branch_1=torch.from_numpy(xtest_final[:,:3]).float().to(cuda)\n",
        "  input_branch_2=torch.from_numpy(xtest_final[:,3:]).float().to(cuda)\n",
        "\n",
        "  # op_branch_1=siamese(input_branch_1)\n",
        "  # op_branch_2=siamese(input_branch_2)\n",
        "\n",
        "  op_branch_1=model(input_branch_1)\n",
        "  op_branch_2=model(input_branch_2)\n",
        "  ######------------------------UNNNORMALIZING THE OUTPUTS-----------------------------------------------------------------\n",
        "\n",
        "\n",
        "  op_branch_1[:,0]=(op_branch_1[:,0]*test_max_x)+test_min_x\n",
        "  op_branch_2[:,0]=(op_branch_2[:,0]*test_max_x)+test_min_x\n",
        "\n",
        "\n",
        "  op_branch_1[:,1]=(op_branch_1[:,1]*test_max_y)+test_min_y\n",
        "  op_branch_2[:,1]=(op_branch_2[:,1]*test_max_y)+test_min_y\n",
        "\n",
        "\n",
        "  op_branch_1[:,2]=(op_branch_1[:,2]*test_max_z)+test_min_z\n",
        "  op_branch_2[:,2]=(op_branch_2[:,2]*test_max_z)+test_min_z\n",
        "\n",
        "  #######--------------------------------------CALCULATING ERROR----------------------------------------------------------\n",
        "\n",
        "  d=torch.norm(op_branch_1-op_branch_2,2,1)\n",
        "  dcap=torch.norm(torch.from_numpy(ytest_final[:,:3]).float().to(cuda)-torch.from_numpy(ytest_final[:,3:]).float().to(cuda),2,1)\n",
        "\n",
        "  root_squared_error=torch.norm(d-dcap)\n",
        "  loss=torch.sqrt((root_squared_error*root_squared_error)/xtest_final.shape[0])\n",
        "  return loss"
      ],
      "execution_count": 71,
      "outputs": []
    },
    {
      "cell_type": "code",
      "metadata": {
        "id": "Va1OgCLs7e-P",
        "colab_type": "code",
        "colab": {
          "base_uri": "https://localhost:8080/",
          "height": 1000
        },
        "outputId": "81698987-3d98-46d5-a513-13d487295738"
      },
      "source": [
        "num_epochs=500\n",
        "curr=10000\n",
        "for epoch in range(num_epochs):\n",
        "  avg_loss=[]\n",
        "  for step,dat in enumerate(train_dataloader):\n",
        "    input_coordinates=dat['x'].float().to(cuda)\n",
        "    output_coordinates=dat['y'].float().to(cuda)\n",
        "\n",
        "    batch_s=input_coordinates.shape[0]\n",
        "    \n",
        "    optimizer.zero_grad()\n",
        "\n",
        "    ######-------------------------NORMALIZING THE DATA----------------------------------------------------------------------\n",
        "    input_branch_1=input_coordinates[:,:3]\n",
        "    input_branch_2=input_coordinates[:,3:]\n",
        "\n",
        "    op_branch_1=siamese(input_branch_1)\n",
        "    op_branch_2=siamese(input_branch_2)\n",
        "\n",
        "    ######------------------------UNNNORMALIZING THE OUTPUTS-----------------------------------------------------------------\n",
        "\n",
        "\n",
        "    op_branch_1[:,0]=(op_branch_1[:,0]*train_max_x)+train_min_x\n",
        "    op_branch_2[:,0]=(op_branch_2[:,0]*train_max_x)+train_min_x\n",
        "\n",
        "\n",
        "    op_branch_1[:,1]=(op_branch_1[:,1]*train_max_y)+train_min_y\n",
        "    op_branch_2[:,1]=(op_branch_2[:,1]*train_max_y)+train_min_y\n",
        "\n",
        "\n",
        "    op_branch_1[:,2]=(op_branch_1[:,2]*train_max_z)+train_min_z\n",
        "    op_branch_2[:,2]=(op_branch_2[:,2]*train_max_z)+train_min_z\n",
        "\n",
        "    #######--------------------------------------CALCULATING ERROR----------------------------------------------------------\n",
        "\n",
        "    d=torch.norm(op_branch_1-op_branch_2,2,1)\n",
        "    dcap=torch.norm(output_coordinates[:,:3]-output_coordinates[:,3:],2,1)\n",
        "\n",
        "    root_squared_error=torch.norm(d-dcap)\n",
        "    loss=torch.sqrt((root_squared_error*root_squared_error)/batch_s)#**2#mse(d,dcap)############its a vector\n",
        "    loss.backward()\n",
        "    \n",
        "    optimizer.step()\n",
        "    avg_loss.append(loss.cpu().detach().numpy())\n",
        "    \n",
        "  np.asarray(avg_loss)\n",
        "  #np.asarray(test_avg_loss)\n",
        "  if(test_loss(siamese).cpu().detach().numpy() <= curr):\n",
        "    torch.save({'state_dict':siamese.state_dict()}, \"/content/gdrive/My Drive/daad/saved_model/siamese_NN/Skip_Siamese_4.pth.tar\")\n",
        "  curr=min(curr,test_loss(siamese).cpu().detach().numpy())\n",
        "  print(\"Epoch: {} Loss: {} Test Loss: {}\".format(epoch,np.mean(avg_loss),test_loss(siamese).cpu().detach().numpy()))"
      ],
      "execution_count": 72,
      "outputs": [
        {
          "output_type": "stream",
          "text": [
            "Epoch: 0 Loss: 3.2571990489959717 Test Loss: 1.2956191301345825\n",
            "Epoch: 1 Loss: 0.21120749413967133 Test Loss: 1.3878397941589355\n",
            "Epoch: 2 Loss: 0.20050877332687378 Test Loss: 1.3784074783325195\n",
            "Epoch: 3 Loss: 0.19412079453468323 Test Loss: 1.3984222412109375\n",
            "Epoch: 4 Loss: 0.19032341241836548 Test Loss: 1.2706094980239868\n",
            "Epoch: 5 Loss: 0.1837090253829956 Test Loss: 1.2636274099349976\n",
            "Epoch: 6 Loss: 0.17655789852142334 Test Loss: 1.3116443157196045\n",
            "Epoch: 7 Loss: 0.17456404864788055 Test Loss: 1.4434579610824585\n",
            "Epoch: 8 Loss: 0.17329713702201843 Test Loss: 1.3219373226165771\n",
            "Epoch: 9 Loss: 0.17191730439662933 Test Loss: 1.353568434715271\n",
            "Epoch: 10 Loss: 0.17095668613910675 Test Loss: 1.4077775478363037\n",
            "Epoch: 11 Loss: 0.1702980250120163 Test Loss: 1.33978271484375\n",
            "Epoch: 12 Loss: 0.1697850227355957 Test Loss: 1.3839261531829834\n",
            "Epoch: 13 Loss: 0.16834302246570587 Test Loss: 1.3383641242980957\n",
            "Epoch: 14 Loss: 0.16791585087776184 Test Loss: 1.3947809934616089\n",
            "Epoch: 15 Loss: 0.1681930422782898 Test Loss: 1.3604968786239624\n",
            "Epoch: 16 Loss: 0.16805623471736908 Test Loss: 1.3797786235809326\n",
            "Epoch: 17 Loss: 0.1662338525056839 Test Loss: 1.3043313026428223\n",
            "Epoch: 18 Loss: 0.16652506589889526 Test Loss: 1.3932595252990723\n",
            "Epoch: 19 Loss: 0.16710054874420166 Test Loss: 1.2699053287506104\n",
            "Epoch: 20 Loss: 0.16609372198581696 Test Loss: 1.3278390169143677\n",
            "Epoch: 21 Loss: 0.1658494472503662 Test Loss: 1.3012088537216187\n",
            "Epoch: 22 Loss: 0.16586394608020782 Test Loss: 1.3190808296203613\n",
            "Epoch: 23 Loss: 0.16550666093826294 Test Loss: 1.3319919109344482\n",
            "Epoch: 24 Loss: 0.16543708741664886 Test Loss: 1.3320269584655762\n",
            "Epoch: 25 Loss: 0.16528312861919403 Test Loss: 1.3904777765274048\n",
            "Epoch: 26 Loss: 0.16570284962654114 Test Loss: 1.2555211782455444\n",
            "Epoch: 27 Loss: 0.16548337042331696 Test Loss: 1.3376599550247192\n",
            "Epoch: 28 Loss: 0.16458870470523834 Test Loss: 1.3863160610198975\n",
            "Epoch: 29 Loss: 0.16499310731887817 Test Loss: 1.3013832569122314\n",
            "Epoch: 30 Loss: 0.16474968194961548 Test Loss: 1.2925598621368408\n",
            "Epoch: 31 Loss: 0.16440972685813904 Test Loss: 1.3173774480819702\n",
            "Epoch: 32 Loss: 0.16406556963920593 Test Loss: 1.3776378631591797\n",
            "Epoch: 33 Loss: 0.16443942487239838 Test Loss: 1.3031702041625977\n",
            "Epoch: 34 Loss: 0.16371643543243408 Test Loss: 1.3404816389083862\n",
            "Epoch: 35 Loss: 0.1638544201850891 Test Loss: 1.2799279689788818\n",
            "Epoch: 36 Loss: 0.16366198658943176 Test Loss: 1.2813701629638672\n",
            "Epoch: 37 Loss: 0.16310907900333405 Test Loss: 1.2698756456375122\n",
            "Epoch: 38 Loss: 0.1636936068534851 Test Loss: 1.3701319694519043\n",
            "Epoch: 39 Loss: 0.16338345408439636 Test Loss: 1.2771550416946411\n",
            "Epoch: 40 Loss: 0.16332179307937622 Test Loss: 1.3410860300064087\n",
            "Epoch: 41 Loss: 0.16326618194580078 Test Loss: 1.4035481214523315\n",
            "Epoch: 42 Loss: 0.1624707579612732 Test Loss: 1.2488471269607544\n",
            "Epoch: 43 Loss: 0.1628740429878235 Test Loss: 1.3748886585235596\n",
            "Epoch: 44 Loss: 0.16239748895168304 Test Loss: 1.2740850448608398\n",
            "Epoch: 45 Loss: 0.16239260137081146 Test Loss: 1.3046342134475708\n",
            "Epoch: 46 Loss: 0.1625838577747345 Test Loss: 1.2764309644699097\n",
            "Epoch: 47 Loss: 0.16249972581863403 Test Loss: 1.3553194999694824\n",
            "Epoch: 48 Loss: 0.16242869198322296 Test Loss: 1.2195247411727905\n",
            "Epoch: 49 Loss: 0.1622445285320282 Test Loss: 1.1988283395767212\n",
            "Epoch: 50 Loss: 0.16168028116226196 Test Loss: 1.2478816509246826\n",
            "Epoch: 51 Loss: 0.16179393231868744 Test Loss: 1.2956186532974243\n",
            "Epoch: 52 Loss: 0.1616186499595642 Test Loss: 1.18690824508667\n",
            "Epoch: 53 Loss: 0.16112057864665985 Test Loss: 1.246730923652649\n",
            "Epoch: 54 Loss: 0.16165049374103546 Test Loss: 1.228442907333374\n",
            "Epoch: 55 Loss: 0.16096778213977814 Test Loss: 1.2245123386383057\n",
            "Epoch: 56 Loss: 0.16147926449775696 Test Loss: 1.3179823160171509\n",
            "Epoch: 57 Loss: 0.1612778902053833 Test Loss: 1.1926807165145874\n",
            "Epoch: 58 Loss: 0.16092418134212494 Test Loss: 1.1741039752960205\n",
            "Epoch: 59 Loss: 0.16164535284042358 Test Loss: 1.274024486541748\n",
            "Epoch: 60 Loss: 0.16074517369270325 Test Loss: 1.2061396837234497\n",
            "Epoch: 61 Loss: 0.1605580896139145 Test Loss: 1.2599225044250488\n",
            "Epoch: 62 Loss: 0.1606927365064621 Test Loss: 1.201611042022705\n",
            "Epoch: 63 Loss: 0.1608150601387024 Test Loss: 1.274294376373291\n",
            "Epoch: 64 Loss: 0.1611640304327011 Test Loss: 1.2412707805633545\n",
            "Epoch: 65 Loss: 0.16125227510929108 Test Loss: 1.227297306060791\n",
            "Epoch: 66 Loss: 0.16051454842090607 Test Loss: 1.257063388824463\n",
            "Epoch: 67 Loss: 0.16044871509075165 Test Loss: 1.222445011138916\n",
            "Epoch: 68 Loss: 0.16100163757801056 Test Loss: 1.2137627601623535\n",
            "Epoch: 69 Loss: 0.16060994565486908 Test Loss: 1.1933997869491577\n",
            "Epoch: 70 Loss: 0.160549595952034 Test Loss: 1.1917935609817505\n",
            "Epoch: 71 Loss: 0.16083340346813202 Test Loss: 1.2030080556869507\n",
            "Epoch: 72 Loss: 0.16016308963298798 Test Loss: 1.198289155960083\n",
            "Epoch: 73 Loss: 0.1603233367204666 Test Loss: 1.2404500246047974\n",
            "Epoch: 74 Loss: 0.16049474477767944 Test Loss: 1.2001560926437378\n",
            "Epoch: 75 Loss: 0.16022102534770966 Test Loss: 1.2998473644256592\n",
            "Epoch: 76 Loss: 0.16058841347694397 Test Loss: 1.2185122966766357\n",
            "Epoch: 77 Loss: 0.15982401371002197 Test Loss: 1.1580227613449097\n",
            "Epoch: 78 Loss: 0.16021251678466797 Test Loss: 1.2016268968582153\n",
            "Epoch: 79 Loss: 0.1603042036294937 Test Loss: 1.1715689897537231\n",
            "Epoch: 80 Loss: 0.16004174947738647 Test Loss: 1.1553950309753418\n",
            "Epoch: 81 Loss: 0.15985913574695587 Test Loss: 1.2649853229522705\n",
            "Epoch: 82 Loss: 0.15948674082756042 Test Loss: 1.215040683746338\n",
            "Epoch: 83 Loss: 0.15946660935878754 Test Loss: 1.2054998874664307\n",
            "Epoch: 84 Loss: 0.15957647562026978 Test Loss: 1.2258368730545044\n",
            "Epoch: 85 Loss: 0.15922196209430695 Test Loss: 1.302557349205017\n",
            "Epoch: 86 Loss: 0.15915003418922424 Test Loss: 1.280176043510437\n",
            "Epoch: 87 Loss: 0.1590491384267807 Test Loss: 1.2597241401672363\n",
            "Epoch: 88 Loss: 0.15940864384174347 Test Loss: 1.2438092231750488\n",
            "Epoch: 89 Loss: 0.15887440741062164 Test Loss: 1.179694414138794\n",
            "Epoch: 90 Loss: 0.15847106277942657 Test Loss: 1.1995958089828491\n",
            "Epoch: 91 Loss: 0.1587936133146286 Test Loss: 1.1746137142181396\n",
            "Epoch: 92 Loss: 0.15871426463127136 Test Loss: 1.2164071798324585\n",
            "Epoch: 93 Loss: 0.1588914692401886 Test Loss: 1.3047481775283813\n",
            "Epoch: 94 Loss: 0.1583804339170456 Test Loss: 1.2571654319763184\n",
            "Epoch: 95 Loss: 0.15877550840377808 Test Loss: 1.1869057416915894\n",
            "Epoch: 96 Loss: 0.15856339037418365 Test Loss: 1.250331163406372\n",
            "Epoch: 97 Loss: 0.1587716042995453 Test Loss: 1.2171376943588257\n",
            "Epoch: 98 Loss: 0.15868468582630157 Test Loss: 1.2255650758743286\n",
            "Epoch: 99 Loss: 0.15820161998271942 Test Loss: 1.1812829971313477\n",
            "Epoch: 100 Loss: 0.15828080475330353 Test Loss: 1.2057442665100098\n",
            "Epoch: 101 Loss: 0.15884926915168762 Test Loss: 1.2931591272354126\n",
            "Epoch: 102 Loss: 0.15823979675769806 Test Loss: 1.1758742332458496\n",
            "Epoch: 103 Loss: 0.15857212245464325 Test Loss: 1.1365631818771362\n",
            "Epoch: 104 Loss: 0.15810786187648773 Test Loss: 1.1543675661087036\n",
            "Epoch: 105 Loss: 0.15847988426685333 Test Loss: 1.2570199966430664\n",
            "Epoch: 106 Loss: 0.15800493955612183 Test Loss: 1.196346640586853\n",
            "Epoch: 107 Loss: 0.15842503309249878 Test Loss: 1.2737897634506226\n",
            "Epoch: 108 Loss: 0.15789704024791718 Test Loss: 1.2485162019729614\n",
            "Epoch: 109 Loss: 0.15759983658790588 Test Loss: 1.245388388633728\n",
            "Epoch: 110 Loss: 0.15733806788921356 Test Loss: 1.2883613109588623\n",
            "Epoch: 111 Loss: 0.1579316109418869 Test Loss: 1.3143526315689087\n",
            "Epoch: 112 Loss: 0.1577240526676178 Test Loss: 1.200217843055725\n",
            "Epoch: 113 Loss: 0.1574385166168213 Test Loss: 1.2088769674301147\n",
            "Epoch: 114 Loss: 0.15781597793102264 Test Loss: 1.3569483757019043\n",
            "Epoch: 115 Loss: 0.15754592418670654 Test Loss: 1.2464358806610107\n",
            "Epoch: 116 Loss: 0.15757182240486145 Test Loss: 1.2793546915054321\n",
            "Epoch: 117 Loss: 0.15753209590911865 Test Loss: 1.2633411884307861\n",
            "Epoch: 118 Loss: 0.15658612549304962 Test Loss: 1.2122536897659302\n",
            "Epoch: 119 Loss: 0.15750350058078766 Test Loss: 1.1984357833862305\n",
            "Epoch: 120 Loss: 0.15747274458408356 Test Loss: 1.293323278427124\n",
            "Epoch: 121 Loss: 0.1570018082857132 Test Loss: 1.1770594120025635\n",
            "Epoch: 122 Loss: 0.1573602557182312 Test Loss: 1.2075098752975464\n"
          ],
          "name": "stdout"
        },
        {
          "output_type": "error",
          "ename": "KeyboardInterrupt",
          "evalue": "ignored",
          "traceback": [
            "\u001b[0;31m---------------------------------------------------------------------------\u001b[0m",
            "\u001b[0;31mKeyboardInterrupt\u001b[0m                         Traceback (most recent call last)",
            "\u001b[0;32m<ipython-input-72-6889c7b57d3b>\u001b[0m in \u001b[0;36m<module>\u001b[0;34m()\u001b[0m\n\u001b[1;32m     42\u001b[0m     \u001b[0mloss\u001b[0m\u001b[0;34m.\u001b[0m\u001b[0mbackward\u001b[0m\u001b[0;34m(\u001b[0m\u001b[0;34m)\u001b[0m\u001b[0;34m\u001b[0m\u001b[0;34m\u001b[0m\u001b[0m\n\u001b[1;32m     43\u001b[0m \u001b[0;34m\u001b[0m\u001b[0m\n\u001b[0;32m---> 44\u001b[0;31m     \u001b[0moptimizer\u001b[0m\u001b[0;34m.\u001b[0m\u001b[0mstep\u001b[0m\u001b[0;34m(\u001b[0m\u001b[0;34m)\u001b[0m\u001b[0;34m\u001b[0m\u001b[0;34m\u001b[0m\u001b[0m\n\u001b[0m\u001b[1;32m     45\u001b[0m     \u001b[0;31m#rmse=loss**0.5\u001b[0m\u001b[0;34m\u001b[0m\u001b[0;34m\u001b[0m\u001b[0;34m\u001b[0m\u001b[0m\n\u001b[1;32m     46\u001b[0m     \u001b[0;31m################3-----------------------actual error----------------------------------------------------------------\u001b[0m\u001b[0;34m\u001b[0m\u001b[0;34m\u001b[0m\u001b[0;34m\u001b[0m\u001b[0m\n",
            "\u001b[0;32m/usr/local/lib/python3.6/dist-packages/torch/autograd/grad_mode.py\u001b[0m in \u001b[0;36mdecorate_context\u001b[0;34m(*args, **kwargs)\u001b[0m\n\u001b[1;32m     13\u001b[0m         \u001b[0;32mdef\u001b[0m \u001b[0mdecorate_context\u001b[0m\u001b[0;34m(\u001b[0m\u001b[0;34m*\u001b[0m\u001b[0margs\u001b[0m\u001b[0;34m,\u001b[0m \u001b[0;34m**\u001b[0m\u001b[0mkwargs\u001b[0m\u001b[0;34m)\u001b[0m\u001b[0;34m:\u001b[0m\u001b[0;34m\u001b[0m\u001b[0;34m\u001b[0m\u001b[0m\n\u001b[1;32m     14\u001b[0m             \u001b[0;32mwith\u001b[0m \u001b[0mself\u001b[0m\u001b[0;34m:\u001b[0m\u001b[0;34m\u001b[0m\u001b[0;34m\u001b[0m\u001b[0m\n\u001b[0;32m---> 15\u001b[0;31m                 \u001b[0;32mreturn\u001b[0m \u001b[0mfunc\u001b[0m\u001b[0;34m(\u001b[0m\u001b[0;34m*\u001b[0m\u001b[0margs\u001b[0m\u001b[0;34m,\u001b[0m \u001b[0;34m**\u001b[0m\u001b[0mkwargs\u001b[0m\u001b[0;34m)\u001b[0m\u001b[0;34m\u001b[0m\u001b[0;34m\u001b[0m\u001b[0m\n\u001b[0m\u001b[1;32m     16\u001b[0m         \u001b[0;32mreturn\u001b[0m \u001b[0mdecorate_context\u001b[0m\u001b[0;34m\u001b[0m\u001b[0;34m\u001b[0m\u001b[0m\n\u001b[1;32m     17\u001b[0m \u001b[0;34m\u001b[0m\u001b[0m\n",
            "\u001b[0;32m/usr/local/lib/python3.6/dist-packages/torch/optim/adam.py\u001b[0m in \u001b[0;36mstep\u001b[0;34m(self, closure)\u001b[0m\n\u001b[1;32m    105\u001b[0m                     \u001b[0mdenom\u001b[0m \u001b[0;34m=\u001b[0m \u001b[0;34m(\u001b[0m\u001b[0mmax_exp_avg_sq\u001b[0m\u001b[0;34m.\u001b[0m\u001b[0msqrt\u001b[0m\u001b[0;34m(\u001b[0m\u001b[0;34m)\u001b[0m \u001b[0;34m/\u001b[0m \u001b[0mmath\u001b[0m\u001b[0;34m.\u001b[0m\u001b[0msqrt\u001b[0m\u001b[0;34m(\u001b[0m\u001b[0mbias_correction2\u001b[0m\u001b[0;34m)\u001b[0m\u001b[0;34m)\u001b[0m\u001b[0;34m.\u001b[0m\u001b[0madd_\u001b[0m\u001b[0;34m(\u001b[0m\u001b[0mgroup\u001b[0m\u001b[0;34m[\u001b[0m\u001b[0;34m'eps'\u001b[0m\u001b[0;34m]\u001b[0m\u001b[0;34m)\u001b[0m\u001b[0;34m\u001b[0m\u001b[0;34m\u001b[0m\u001b[0m\n\u001b[1;32m    106\u001b[0m                 \u001b[0;32melse\u001b[0m\u001b[0;34m:\u001b[0m\u001b[0;34m\u001b[0m\u001b[0;34m\u001b[0m\u001b[0m\n\u001b[0;32m--> 107\u001b[0;31m                     \u001b[0mdenom\u001b[0m \u001b[0;34m=\u001b[0m \u001b[0;34m(\u001b[0m\u001b[0mexp_avg_sq\u001b[0m\u001b[0;34m.\u001b[0m\u001b[0msqrt\u001b[0m\u001b[0;34m(\u001b[0m\u001b[0;34m)\u001b[0m \u001b[0;34m/\u001b[0m \u001b[0mmath\u001b[0m\u001b[0;34m.\u001b[0m\u001b[0msqrt\u001b[0m\u001b[0;34m(\u001b[0m\u001b[0mbias_correction2\u001b[0m\u001b[0;34m)\u001b[0m\u001b[0;34m)\u001b[0m\u001b[0;34m.\u001b[0m\u001b[0madd_\u001b[0m\u001b[0;34m(\u001b[0m\u001b[0mgroup\u001b[0m\u001b[0;34m[\u001b[0m\u001b[0;34m'eps'\u001b[0m\u001b[0;34m]\u001b[0m\u001b[0;34m)\u001b[0m\u001b[0;34m\u001b[0m\u001b[0;34m\u001b[0m\u001b[0m\n\u001b[0m\u001b[1;32m    108\u001b[0m \u001b[0;34m\u001b[0m\u001b[0m\n\u001b[1;32m    109\u001b[0m                 \u001b[0mstep_size\u001b[0m \u001b[0;34m=\u001b[0m \u001b[0mgroup\u001b[0m\u001b[0;34m[\u001b[0m\u001b[0;34m'lr'\u001b[0m\u001b[0;34m]\u001b[0m \u001b[0;34m/\u001b[0m \u001b[0mbias_correction1\u001b[0m\u001b[0;34m\u001b[0m\u001b[0;34m\u001b[0m\u001b[0m\n",
            "\u001b[0;31mKeyboardInterrupt\u001b[0m: "
          ]
        }
      ]
    },
    {
      "cell_type": "code",
      "metadata": {
        "id": "EKi5cL8pa_gY",
        "colab_type": "code",
        "colab": {
          "base_uri": "https://localhost:8080/",
          "height": 33
        },
        "outputId": "565d0133-979e-4516-af8a-335ed57f7a53"
      },
      "source": [
        "model = Network().to(cuda)\n",
        "checkpoint = torch.load(\"/content/gdrive/My Drive/daad/saved_model/siamese_NN/Skip_Siamese_4.pth.tar\")\n",
        "model.load_state_dict(checkpoint['state_dict'])"
      ],
      "execution_count": 73,
      "outputs": [
        {
          "output_type": "execute_result",
          "data": {
            "text/plain": [
              "<All keys matched successfully>"
            ]
          },
          "metadata": {
            "tags": []
          },
          "execution_count": 73
        }
      ]
    },
    {
      "cell_type": "code",
      "metadata": {
        "id": "B0HO8Vz9fxBp",
        "colab_type": "code",
        "colab": {}
      },
      "source": [
        "op_branch_1"
      ],
      "execution_count": null,
      "outputs": []
    },
    {
      "cell_type": "code",
      "metadata": {
        "id": "xdHu0xf7MaSb",
        "colab_type": "code",
        "colab": {}
      },
      "source": [
        "op_branch_2"
      ],
      "execution_count": null,
      "outputs": []
    },
    {
      "cell_type": "code",
      "metadata": {
        "id": "wTT_HDjl9oKN",
        "colab_type": "code",
        "colab": {
          "base_uri": "https://localhost:8080/",
          "height": 228
        },
        "outputId": "4f3ebb53-b584-402c-e898-0fef19a55ed8"
      },
      "source": [
        "xtest_final"
      ],
      "execution_count": 60,
      "outputs": [
        {
          "output_type": "execute_result",
          "data": {
            "text/plain": [
              "array([[0.        , 0.00533243, 0.09555424, 0.        , 0.00533243,\n",
              "        0.09555424],\n",
              "       [0.        , 0.00533243, 0.09555424, 0.00146159, 0.13704188,\n",
              "        0.05915068],\n",
              "       [0.        , 0.00533243, 0.09555424, 0.00243452, 0.20321126,\n",
              "        0.04095298],\n",
              "       ...,\n",
              "       [0.73146948, 0.90787082, 0.2639156 , 0.5483567 , 0.80312978,\n",
              "        0.20931189],\n",
              "       [0.73146948, 0.90787082, 0.2639156 , 0.71588505, 0.69023277,\n",
              "        0.29121704],\n",
              "       [0.73146948, 0.90787082, 0.2639156 , 0.73146948, 0.90787082,\n",
              "        0.2639156 ]])"
            ]
          },
          "metadata": {
            "tags": []
          },
          "execution_count": 60
        }
      ]
    },
    {
      "cell_type": "code",
      "metadata": {
        "id": "YgUrCUiXIk0f",
        "colab_type": "code",
        "colab": {}
      },
      "source": [
        "#model=siamese\n",
        "input_branch_1=torch.from_numpy(xtest_final[:,:3]).float().to(cuda)\n",
        "input_branch_2=torch.from_numpy(xtest_final[:,3:]).float().to(cuda)\n",
        "\n",
        "# op_branch_1=siamese(input_branch_1)\n",
        "# op_branch_2=siamese(input_branch_2)\n",
        "\n",
        "op_branch_1=model(input_branch_1)\n",
        "op_branch_2=model(input_branch_2)\n",
        "######------------------------UNNNORMALIZING THE OUTPUTS-----------------------------------------------------------------\n",
        "\n",
        "\n",
        "op_branch_1[:,0]=(op_branch_1[:,0]*test_max_x)+test_min_x\n",
        "op_branch_2[:,0]=(op_branch_2[:,0]*test_max_x)+test_min_x\n",
        "\n",
        "\n",
        "op_branch_1[:,1]=(op_branch_1[:,1]*test_max_y)+test_min_y\n",
        "op_branch_2[:,1]=(op_branch_2[:,1]*test_max_y)+test_min_y\n",
        "\n",
        "\n",
        "op_branch_1[:,2]=(op_branch_1[:,2]*test_max_z)+test_min_z\n",
        "op_branch_2[:,2]=(op_branch_2[:,2]*test_max_z)+test_min_z\n",
        "\n",
        "#######--------------------------------------CALCULATING ERROR----------------------------------------------------------\n",
        "\n",
        "d=torch.norm(op_branch_1-op_branch_2,2,1)\n",
        "dcap=torch.norm(torch.from_numpy(ytest_final[:,:3]).float().to(cuda)-torch.from_numpy(ytest_final[:,3:]).float().to(cuda),2,1)\n",
        "\n",
        "root_squared_error=torch.norm(d-dcap)\n",
        "loss=(root_squared_error*root_squared_error)/xtest_final.shape[0]"
      ],
      "execution_count": 74,
      "outputs": []
    },
    {
      "cell_type": "code",
      "metadata": {
        "id": "b00i2NbUJw0k",
        "colab_type": "code",
        "colab": {
          "base_uri": "https://localhost:8080/",
          "height": 33
        },
        "outputId": "9e01ad73-865d-4738-cba1-95a08f6894b2"
      },
      "source": [
        "loss"
      ],
      "execution_count": 75,
      "outputs": [
        {
          "output_type": "execute_result",
          "data": {
            "text/plain": [
              "tensor(1.2918, device='cuda:0', grad_fn=<DivBackward0>)"
            ]
          },
          "metadata": {
            "tags": []
          },
          "execution_count": 75
        }
      ]
    },
    {
      "cell_type": "code",
      "metadata": {
        "id": "xy9skzynS6K7",
        "colab_type": "code",
        "colab": {
          "base_uri": "https://localhost:8080/",
          "height": 33
        },
        "outputId": "7dc1feb7-a533-4121-de61-1d8c57f860ff"
      },
      "source": [
        "xtest_final.shape"
      ],
      "execution_count": 50,
      "outputs": [
        {
          "output_type": "execute_result",
          "data": {
            "text/plain": [
              "(17000, 6)"
            ]
          },
          "metadata": {
            "tags": []
          },
          "execution_count": 50
        }
      ]
    },
    {
      "cell_type": "code",
      "metadata": {
        "id": "i6A-ExN0MTFH",
        "colab_type": "code",
        "colab": {}
      },
      "source": [
        "x=(d-dcap).cpu().detach().numpy()"
      ],
      "execution_count": 51,
      "outputs": []
    },
    {
      "cell_type": "code",
      "metadata": {
        "id": "3rVBGGNCt9md",
        "colab_type": "code",
        "colab": {
          "base_uri": "https://localhost:8080/",
          "height": 33
        },
        "outputId": "60c62dbc-824a-4b5f-cbac-eea8ed25fcd1"
      },
      "source": [
        "np.max(x)"
      ],
      "execution_count": 52,
      "outputs": [
        {
          "output_type": "execute_result",
          "data": {
            "text/plain": [
              "3.45253"
            ]
          },
          "metadata": {
            "tags": []
          },
          "execution_count": 52
        }
      ]
    },
    {
      "cell_type": "code",
      "metadata": {
        "id": "APGXirjtt_o9",
        "colab_type": "code",
        "colab": {
          "base_uri": "https://localhost:8080/",
          "height": 33
        },
        "outputId": "9cf23107-d3cd-4bec-f847-1c6bad3a2cc4"
      },
      "source": [
        "np.min(x)"
      ],
      "execution_count": 53,
      "outputs": [
        {
          "output_type": "execute_result",
          "data": {
            "text/plain": [
              "-6.041588"
            ]
          },
          "metadata": {
            "tags": []
          },
          "execution_count": 53
        }
      ]
    },
    {
      "cell_type": "code",
      "metadata": {
        "id": "Zw9XddX7Qr06",
        "colab_type": "code",
        "colab": {
          "base_uri": "https://localhost:8080/",
          "height": 33
        },
        "outputId": "f471efd5-1ba5-489b-b338-531b3da169e7"
      },
      "source": [
        "x.mean()"
      ],
      "execution_count": 54,
      "outputs": [
        {
          "output_type": "execute_result",
          "data": {
            "text/plain": [
              "-0.7116561"
            ]
          },
          "metadata": {
            "tags": []
          },
          "execution_count": 54
        }
      ]
    },
    {
      "cell_type": "code",
      "metadata": {
        "id": "HYi8j3WzQru6",
        "colab_type": "code",
        "colab": {}
      },
      "source": [
        "std = np.sqrt(np.mean(abs(x - x. mean())**2))"
      ],
      "execution_count": 55,
      "outputs": []
    },
    {
      "cell_type": "code",
      "metadata": {
        "id": "DzWjJpOpQxLJ",
        "colab_type": "code",
        "colab": {
          "base_uri": "https://localhost:8080/",
          "height": 33
        },
        "outputId": "02f4764b-8610-4745-a502-447096ec83e2"
      },
      "source": [
        "std"
      ],
      "execution_count": 56,
      "outputs": [
        {
          "output_type": "execute_result",
          "data": {
            "text/plain": [
              "1.3717793"
            ]
          },
          "metadata": {
            "tags": []
          },
          "execution_count": 56
        }
      ]
    },
    {
      "cell_type": "markdown",
      "metadata": {
        "id": "2Mmtj85CcMFr",
        "colab_type": "text"
      },
      "source": [
        "## EVALUATION"
      ]
    },
    {
      "cell_type": "code",
      "metadata": {
        "id": "IKZqxju1eHN-",
        "colab_type": "code",
        "colab": {}
      },
      "source": [
        "def mse_calc_(x,y):\n",
        "  dist_x=np.linalg.norm(x[:,:3]-x[:,3:6],axis=1)\n",
        "  dist_y=np.linalg.norm(y[:,:3]-y[:,3:6],axis=1)\n",
        "  err=np.mean(((dist_x-dist_y)**2))**(0.5)\n",
        "  return err"
      ],
      "execution_count": null,
      "outputs": []
    },
    {
      "cell_type": "code",
      "metadata": {
        "id": "8YvXAvfRdRG6",
        "colab_type": "code",
        "colab": {
          "base_uri": "https://localhost:8080/",
          "height": 228
        },
        "outputId": "cda08c8c-8cf8-4cda-faeb-1bc8a5f89ca0"
      },
      "source": [
        "ytest_final"
      ],
      "execution_count": null,
      "outputs": [
        {
          "output_type": "execute_result",
          "data": {
            "text/plain": [
              "array([[9.21790013e-02, 9.17457065e-02, 4.05468486e-05, 9.21790013e-02,\n",
              "        9.17457065e-02, 4.05468486e-05],\n",
              "       [9.21790013e-02, 9.17457065e-02, 4.05468486e-05, 9.21355014e-02,\n",
              "        1.82595634e-01, 6.42843595e-04],\n",
              "       [9.21790013e-02, 9.17457065e-02, 4.05468486e-05, 9.18367950e-02,\n",
              "        4.54262019e-01, 7.75841801e-04],\n",
              "       ...,\n",
              "       [9.99932763e-01, 9.16337200e-02, 4.05468486e-05, 9.25484660e-02,\n",
              "        9.99366924e-01, 4.05468486e-05],\n",
              "       [9.99932763e-01, 9.16337200e-02, 4.05468486e-05, 9.25484660e-02,\n",
              "        9.99366924e-01, 4.05468486e-05],\n",
              "       [9.99932763e-01, 9.16337200e-02, 4.05468486e-05, 9.25484660e-02,\n",
              "        9.99366924e-01, 4.05468486e-05]])"
            ]
          },
          "metadata": {
            "tags": []
          },
          "execution_count": 46
        }
      ]
    },
    {
      "cell_type": "code",
      "metadata": {
        "id": "5k-571XPOjA3",
        "colab_type": "code",
        "colab": {}
      },
      "source": [
        "testx=torch.from_numpy(xtest_final)\n",
        "#testy=torch.from_numpy(ytest)"
      ],
      "execution_count": null,
      "outputs": []
    },
    {
      "cell_type": "code",
      "metadata": {
        "id": "wqt8unU6Onvp",
        "colab_type": "code",
        "colab": {}
      },
      "source": [
        "fake_compensated_points=gen(testx.float().to(cuda)).to('cpu:0').detach().numpy()"
      ],
      "execution_count": null,
      "outputs": []
    },
    {
      "cell_type": "code",
      "metadata": {
        "id": "8oJpwigbQ9sp",
        "colab_type": "code",
        "colab": {
          "base_uri": "https://localhost:8080/",
          "height": 228
        },
        "outputId": "eb83836d-5811-4064-e6d2-24ad023b1fec"
      },
      "source": [
        "fake_compensated_points"
      ],
      "execution_count": null,
      "outputs": [
        {
          "output_type": "execute_result",
          "data": {
            "text/plain": [
              "array([[-0.04204475,  0.        , -0.03391865,  0.        ,  0.03530228,\n",
              "         0.        ],\n",
              "       [-0.05427633,  0.        , -0.04204873,  0.02693653,  0.        ,\n",
              "         0.04850247],\n",
              "       [ 0.        , -0.04750367,  0.        ,  0.04678132,  0.        ,\n",
              "         0.0556435 ],\n",
              "       ...,\n",
              "       [-0.03011497,  0.        , -0.05416179,  0.        ,  0.04761165,\n",
              "         0.04238391],\n",
              "       [ 0.        , -0.03798845,  0.        ,  0.03492   ,  0.04298886,\n",
              "         0.04381505],\n",
              "       [-0.0545169 ,  0.        ,  0.        ,  0.01797786,  0.        ,\n",
              "         0.        ]], dtype=float32)"
            ]
          },
          "metadata": {
            "tags": []
          },
          "execution_count": 49
        }
      ]
    },
    {
      "cell_type": "code",
      "metadata": {
        "id": "YXQNFdxFmgLa",
        "colab_type": "code",
        "colab": {
          "base_uri": "https://localhost:8080/",
          "height": 228
        },
        "outputId": "6682b016-88a1-40f6-94c3-610ab20decd2"
      },
      "source": [
        "xtest_final"
      ],
      "execution_count": null,
      "outputs": [
        {
          "output_type": "execute_result",
          "data": {
            "text/plain": [
              "array([[0.36648321, 0.24555158, 0.04108148, 0.36648321, 0.24555158,\n",
              "        0.04108148],\n",
              "       [0.36648321, 0.24555158, 0.04108148, 0.36679787, 0.22454156,\n",
              "        0.04139508],\n",
              "       [0.36648321, 0.24555158, 0.04108148, 0.36836557, 0.16119291,\n",
              "        0.04202228],\n",
              "       ...,\n",
              "       [0.25860396, 0.03920154, 0.04359028, 0.48251563, 0.24210179,\n",
              "        0.04014068],\n",
              "       [0.25860396, 0.03920154, 0.04359028, 0.48251563, 0.24210179,\n",
              "        0.04045428],\n",
              "       [0.25860396, 0.03920154, 0.04359028, 0.48283029, 0.24210179,\n",
              "        0.04014068]])"
            ]
          },
          "metadata": {
            "tags": []
          },
          "execution_count": 50
        }
      ]
    },
    {
      "cell_type": "code",
      "metadata": {
        "id": "IM_3Erymhjeg",
        "colab_type": "code",
        "colab": {
          "base_uri": "https://localhost:8080/",
          "height": 228
        },
        "outputId": "d27ba93f-ba17-44ec-9062-2088dbfb78ea"
      },
      "source": [
        "ytest_final"
      ],
      "execution_count": null,
      "outputs": [
        {
          "output_type": "execute_result",
          "data": {
            "text/plain": [
              "array([[9.21790013e-02, 9.17457065e-02, 4.05468486e-05, 9.21790013e-02,\n",
              "        9.17457065e-02, 4.05468486e-05],\n",
              "       [9.21790013e-02, 9.17457065e-02, 4.05468486e-05, 9.21355014e-02,\n",
              "        1.82595634e-01, 6.42843595e-04],\n",
              "       [9.21790013e-02, 9.17457065e-02, 4.05468486e-05, 9.18367950e-02,\n",
              "        4.54262019e-01, 7.75841801e-04],\n",
              "       ...,\n",
              "       [9.99932763e-01, 9.16337200e-02, 4.05468486e-05, 9.25484660e-02,\n",
              "        9.99366924e-01, 4.05468486e-05],\n",
              "       [9.99932763e-01, 9.16337200e-02, 4.05468486e-05, 9.25484660e-02,\n",
              "        9.99366924e-01, 4.05468486e-05],\n",
              "       [9.99932763e-01, 9.16337200e-02, 4.05468486e-05, 9.25484660e-02,\n",
              "        9.99366924e-01, 4.05468486e-05]])"
            ]
          },
          "metadata": {
            "tags": []
          },
          "execution_count": 51
        }
      ]
    },
    {
      "cell_type": "code",
      "metadata": {
        "id": "KRf3hGveeEyZ",
        "colab_type": "code",
        "colab": {
          "base_uri": "https://localhost:8080/",
          "height": 33
        },
        "outputId": "93abdf1e-1537-478c-8c58-05b6ad9b6240"
      },
      "source": [
        "mse_calc_(fake_compensated_points,xtest_final).mean()"
      ],
      "execution_count": null,
      "outputs": [
        {
          "output_type": "execute_result",
          "data": {
            "text/plain": [
              "0.12461277373376256"
            ]
          },
          "metadata": {
            "tags": []
          },
          "execution_count": 52
        }
      ]
    },
    {
      "cell_type": "code",
      "metadata": {
        "id": "4YR79AFT_8is",
        "colab_type": "code",
        "colab": {}
      },
      "source": [
        "##RESCALING\n",
        "#fake_compensated_points=fake_compensated_points*xtrain_max+xtrain_min\n",
        "fake_compensated_points=fake_compensated_points*ytest_max+ytest_min\n",
        "\n",
        "\n",
        "##xtest_final=xtest_final*xtest_max+xtest_min"
      ],
      "execution_count": null,
      "outputs": []
    },
    {
      "cell_type": "code",
      "metadata": {
        "id": "o0vHiWEUVC-m",
        "colab_type": "code",
        "colab": {}
      },
      "source": [
        "ytest.shape\n",
        "xtest_final=xtest_final*xtest_max+xtest_min\n",
        "ytest_final=ytest_final*ytest_max+ytest_min"
      ],
      "execution_count": null,
      "outputs": []
    },
    {
      "cell_type": "code",
      "metadata": {
        "id": "7FSBIV9eVtGo",
        "colab_type": "code",
        "colab": {}
      },
      "source": [
        "###dataloader to be created\n",
        "def tensor_mse_calc(x,y):\n",
        "  dist_x=torch.norm(x[:,:3]-x[:,3:6],dim=1)\n",
        "  dist_y=torch.norm(y[:,:3]-y[:,3:6],dim=1)\n",
        "  err=torch.mean(((dist_x-dist_y)**2))**(0.5)\n",
        "  return err"
      ],
      "execution_count": null,
      "outputs": []
    },
    {
      "cell_type": "code",
      "metadata": {
        "id": "RBMh83Dl7YdY",
        "colab_type": "code",
        "colab": {}
      },
      "source": [
        "def unnormalize(a,m,M):\n",
        "  a=a*M\n",
        "  a=a+m\n",
        "  return a"
      ],
      "execution_count": null,
      "outputs": []
    },
    {
      "cell_type": "code",
      "metadata": {
        "id": "2jTiqRFg4xPq",
        "colab_type": "code",
        "colab": {}
      },
      "source": [
        "#testx.to('cpu:0').numpy()"
      ],
      "execution_count": null,
      "outputs": []
    },
    {
      "cell_type": "code",
      "metadata": {
        "id": "F9RAtvEJVGG4",
        "colab_type": "code",
        "colab": {
          "base_uri": "https://localhost:8080/",
          "height": 33
        },
        "outputId": "8dc24046-fc9e-49f3-e885-4158c42b9a9e"
      },
      "source": [
        "mse_calc_(xtest_final,ytest_final).mean()"
      ],
      "execution_count": null,
      "outputs": [
        {
          "output_type": "execute_result",
          "data": {
            "text/plain": [
              "2.26690388827129"
            ]
          },
          "metadata": {
            "tags": []
          },
          "execution_count": 58
        }
      ]
    },
    {
      "cell_type": "code",
      "metadata": {
        "id": "jCK0X-QRVL9V",
        "colab_type": "code",
        "colab": {}
      },
      "source": [
        "#tensor_mse_calc(testx,fake_compensated_points.to('cpu:0')).mean()"
      ],
      "execution_count": null,
      "outputs": []
    },
    {
      "cell_type": "code",
      "metadata": {
        "id": "db6kHP_NBc8s",
        "colab_type": "code",
        "colab": {
          "base_uri": "https://localhost:8080/",
          "height": 33
        },
        "outputId": "033e2fb8-1ce4-4a29-9861-fc1b86599173"
      },
      "source": [
        "mse_calc_(fake_compensated_points,xtest_final).mean()"
      ],
      "execution_count": null,
      "outputs": [
        {
          "output_type": "execute_result",
          "data": {
            "text/plain": [
              "59.33182236082514"
            ]
          },
          "metadata": {
            "tags": []
          },
          "execution_count": 60
        }
      ]
    },
    {
      "cell_type": "code",
      "metadata": {
        "id": "-26g0_lt3HJA",
        "colab_type": "code",
        "colab": {
          "base_uri": "https://localhost:8080/",
          "height": 33
        },
        "outputId": "ae7883ab-662f-4d53-ce12-5f5584068231"
      },
      "source": [
        "mse_calc_(fake_compensated_points,ytest_final).mean()"
      ],
      "execution_count": null,
      "outputs": [
        {
          "output_type": "execute_result",
          "data": {
            "text/plain": [
              "59.59778233589894"
            ]
          },
          "metadata": {
            "tags": []
          },
          "execution_count": 61
        }
      ]
    },
    {
      "cell_type": "code",
      "metadata": {
        "id": "D7hPNsYl0yyR",
        "colab_type": "code",
        "colab": {}
      },
      "source": [
        "#ytest_final=ytest_final*ytest_max+ytest_min\n",
        "#fake_compensated_points=fake_compensated_points*ytest_max+ytest_min"
      ],
      "execution_count": null,
      "outputs": []
    },
    {
      "cell_type": "code",
      "metadata": {
        "id": "kvptS1721CxD",
        "colab_type": "code",
        "colab": {
          "base_uri": "https://localhost:8080/",
          "height": 33
        },
        "outputId": "d8c16d19-ae4b-49d2-cede-eb60c018b8e0"
      },
      "source": [
        "mse_calc_(xtest_final,ytest_final).mean()"
      ],
      "execution_count": null,
      "outputs": [
        {
          "output_type": "execute_result",
          "data": {
            "text/plain": [
              "2.26690388827129"
            ]
          },
          "metadata": {
            "tags": []
          },
          "execution_count": 63
        }
      ]
    },
    {
      "cell_type": "code",
      "metadata": {
        "id": "uZASFQA30y6g",
        "colab_type": "code",
        "colab": {
          "base_uri": "https://localhost:8080/",
          "height": 33
        },
        "outputId": "99e51087-f5c7-486a-904a-539a77256e15"
      },
      "source": [
        "mse_calc_(fake_compensated_points,xtest_final).mean()"
      ],
      "execution_count": null,
      "outputs": [
        {
          "output_type": "execute_result",
          "data": {
            "text/plain": [
              "59.33182236082514"
            ]
          },
          "metadata": {
            "tags": []
          },
          "execution_count": 64
        }
      ]
    },
    {
      "cell_type": "code",
      "metadata": {
        "id": "pHgK2FzZ0zDs",
        "colab_type": "code",
        "colab": {
          "base_uri": "https://localhost:8080/",
          "height": 33
        },
        "outputId": "e53d29a7-689c-43fc-901e-65399849ba56"
      },
      "source": [
        "mse_calc_(fake_compensated_points,ytest_final).mean()"
      ],
      "execution_count": null,
      "outputs": [
        {
          "output_type": "execute_result",
          "data": {
            "text/plain": [
              "59.59778233589894"
            ]
          },
          "metadata": {
            "tags": []
          },
          "execution_count": 65
        }
      ]
    },
    {
      "cell_type": "code",
      "metadata": {
        "id": "sjusIpCamOeK",
        "colab_type": "code",
        "colab": {
          "base_uri": "https://localhost:8080/",
          "height": 281
        },
        "outputId": "6313268c-616c-425a-d582-554ee85179eb"
      },
      "source": [
        "import matplotlib.pyplot as plt\n",
        "plt.scatter(op_branch_1.cpu().detach().numpy(), op_branch_2.cpu().detach().numpy())"
      ],
      "execution_count": null,
      "outputs": [
        {
          "output_type": "execute_result",
          "data": {
            "text/plain": [
              "<matplotlib.collections.PathCollection at 0x7f17258104e0>"
            ]
          },
          "metadata": {
            "tags": []
          },
          "execution_count": 54
        },
        {
          "output_type": "display_data",
          "data": {
            "image/png": "[encoded data removed]",
            "text/plain": [
              "<Figure size 432x288 with 1 Axes>"
            ]
          },
          "metadata": {
            "tags": [],
            "needs_background": "light"
          }
        }
      ]
    },
    {
      "cell_type": "code",
      "metadata": {
        "id": "TLTUsrcCmOxY",
        "colab_type": "code",
        "colab": {
          "base_uri": "https://localhost:8080/",
          "height": 158
        },
        "outputId": "3445e857-b6ae-4c44-dcda-25e7dbc39445"
      },
      "source": [
        "plt.scatter(ytest_final[:,0], ytest_final[:,1])\n"
      ],
      "execution_count": null,
      "outputs": [
        {
          "output_type": "error",
          "ename": "IndexError",
          "evalue": "ignored",
          "traceback": [
            "\u001b[0;31m---------------------------------------------------------------------------\u001b[0m",
            "\u001b[0;31mIndexError\u001b[0m                                Traceback (most recent call last)",
            "\u001b[0;32m<ipython-input-55-27972d8756b3>\u001b[0m in \u001b[0;36m<module>\u001b[0;34m()\u001b[0m\n\u001b[0;32m----> 1\u001b[0;31m \u001b[0mplt\u001b[0m\u001b[0;34m.\u001b[0m\u001b[0mscatter\u001b[0m\u001b[0;34m(\u001b[0m\u001b[0mytest_final\u001b[0m\u001b[0;34m[\u001b[0m\u001b[0;34m:\u001b[0m\u001b[0;34m,\u001b[0m\u001b[0;36m0\u001b[0m\u001b[0;34m]\u001b[0m\u001b[0;34m,\u001b[0m \u001b[0mytest_final\u001b[0m\u001b[0;34m[\u001b[0m\u001b[0;34m:\u001b[0m\u001b[0;34m,\u001b[0m\u001b[0;36m1\u001b[0m\u001b[0;34m]\u001b[0m\u001b[0;34m)\u001b[0m\u001b[0;34m\u001b[0m\u001b[0;34m\u001b[0m\u001b[0m\n\u001b[0m",
            "\u001b[0;31mIndexError\u001b[0m: index 0 is out of bounds for axis 1 with size 0"
          ]
        }
      ]
    },
    {
      "cell_type": "code",
      "metadata": {
        "id": "7TPTzniCiyrn",
        "colab_type": "code",
        "colab": {
          "base_uri": "https://localhost:8080/",
          "height": 281
        },
        "outputId": "44c22551-ea24-4672-d0ae-6968cdb6129b"
      },
      "source": [
        "plt.scatter(gen(torch.from_numpy(xtrain_final).float().to(cuda)).to('cpu:0').detach().numpy()[:,0], gen(torch.from_numpy(xtrain_final).float().to(cuda)).to('cpu:0').detach().numpy()[:,1])"
      ],
      "execution_count": null,
      "outputs": [
        {
          "output_type": "execute_result",
          "data": {
            "text/plain": [
              "<matplotlib.collections.PathCollection at 0x7f3ff6c69630>"
            ]
          },
          "metadata": {
            "tags": []
          },
          "execution_count": 68
        },
        {
          "output_type": "display_data",
          "data": {
            "image/png": "[encoded data removed]",
            "text/plain": [
              "<Figure size 432x288 with 1 Axes>"
            ]
          },
          "metadata": {
            "tags": [],
            "needs_background": "light"
          }
        }
      ]
    },
    {
      "cell_type": "code",
      "metadata": {
        "id": "mNWNUQ13lFgL",
        "colab_type": "code",
        "colab": {
          "base_uri": "https://localhost:8080/",
          "height": 281
        },
        "outputId": "0315127c-77d7-4ea7-8074-f7d188419c3c"
      },
      "source": [
        "plt.scatter(ytrain_final[:,0], ytrain_final[:,1])"
      ],
      "execution_count": null,
      "outputs": [
        {
          "output_type": "execute_result",
          "data": {
            "text/plain": [
              "<matplotlib.collections.PathCollection at 0x7f3ff6c32710>"
            ]
          },
          "metadata": {
            "tags": []
          },
          "execution_count": 69
        },
        {
          "output_type": "display_data",
          "data": {
            "image/png": "[encoded data removed]",
            "text/plain": [
              "<Figure size 432x288 with 1 Axes>"
            ]
          },
          "metadata": {
            "tags": [],
            "needs_background": "light"
          }
        }
      ]
    },
    {
      "cell_type": "code",
      "metadata": {
        "id": "4XCGiYzplq1R",
        "colab_type": "code",
        "colab": {
          "base_uri": "https://localhost:8080/",
          "height": 281
        },
        "outputId": "a1fd137b-d18b-43c5-887d-c57474c4a98b"
      },
      "source": [
        "plt.scatter(xtest_final[:,0],xtest_final[:,1])"
      ],
      "execution_count": null,
      "outputs": [
        {
          "output_type": "execute_result",
          "data": {
            "text/plain": [
              "<matplotlib.collections.PathCollection at 0x7f3ff6c01be0>"
            ]
          },
          "metadata": {
            "tags": []
          },
          "execution_count": 70
        },
        {
          "output_type": "display_data",
          "data": {
            "image/png": "[encoded data removed]",
            "text/plain": [
              "<Figure size 432x288 with 1 Axes>"
            ]
          },
          "metadata": {
            "tags": [],
            "needs_background": "light"
          }
        }
      ]
    },
    {
      "cell_type": "code",
      "metadata": {
        "id": "F5PmmN0DkzOH",
        "colab_type": "code",
        "colab": {
          "base_uri": "https://localhost:8080/",
          "height": 283
        },
        "outputId": "bb6cbc98-c71b-4bcd-9927-5d6e007ac0fb"
      },
      "source": [
        "plt.scatter(fake_compensated_points[:,3], fake_compensated_points[:,4])"
      ],
      "execution_count": null,
      "outputs": [
        {
          "output_type": "execute_result",
          "data": {
            "text/plain": [
              "<matplotlib.collections.PathCollection at 0x7f3ff6b6a128>"
            ]
          },
          "metadata": {
            "tags": []
          },
          "execution_count": 71
        },
        {
          "output_type": "display_data",
          "data": {
            "image/png": "[encoded data removed]",
            "text/plain": [
              "<Figure size 432x288 with 1 Axes>"
            ]
          },
          "metadata": {
            "tags": [],
            "needs_background": "light"
          }
        }
      ]
    },
    {
      "cell_type": "code",
      "metadata": {
        "id": "e1rVLvP5kqEL",
        "colab_type": "code",
        "colab": {
          "base_uri": "https://localhost:8080/",
          "height": 281
        },
        "outputId": "525cf647-2f29-426f-ae1d-d371443dfc6c"
      },
      "source": [
        "plt.scatter(ytest_final[:,3], ytest_final[:,4])"
      ],
      "execution_count": null,
      "outputs": [
        {
          "output_type": "execute_result",
          "data": {
            "text/plain": [
              "<matplotlib.collections.PathCollection at 0x7f3ff6b3ef60>"
            ]
          },
          "metadata": {
            "tags": []
          },
          "execution_count": 72
        },
        {
          "output_type": "display_data",
          "data": {
            "image/png": "[encoded data removed]",
            "text/plain": [
              "<Figure size 432x288 with 1 Axes>"
            ]
          },
          "metadata": {
            "tags": [],
            "needs_background": "light"
          }
        }
      ]
    },
    {
      "cell_type": "code",
      "metadata": {
        "id": "LFK6puRska3N",
        "colab_type": "code",
        "colab": {
          "base_uri": "https://localhost:8080/",
          "height": 281
        },
        "outputId": "b9fa8d53-ace4-464d-bce9-f8defecb7ede"
      },
      "source": [
        "plt.scatter(xtest_final[:,3],xtest_final[:,4])"
      ],
      "execution_count": null,
      "outputs": [
        {
          "output_type": "execute_result",
          "data": {
            "text/plain": [
              "<matplotlib.collections.PathCollection at 0x7f3ff6ab3780>"
            ]
          },
          "metadata": {
            "tags": []
          },
          "execution_count": 73
        },
        {
          "output_type": "display_data",
          "data": {
            "image/png": "[encoded data removed]",
            "text/plain": [
              "<Figure size 432x288 with 1 Axes>"
            ]
          },
          "metadata": {
            "tags": [],
            "needs_background": "light"
          }
        }
      ]
    },
    {
      "cell_type": "code",
      "metadata": {
        "id": "XFqa3LLxkePl",
        "colab_type": "code",
        "colab": {
          "base_uri": "https://localhost:8080/",
          "height": 158
        },
        "outputId": "56008fa8-10a5-47ff-8514-2456b9ee432a"
      },
      "source": [
        "xyz.shape"
      ],
      "execution_count": null,
      "outputs": [
        {
          "output_type": "error",
          "ename": "NameError",
          "evalue": "ignored",
          "traceback": [
            "\u001b[0;31m---------------------------------------------------------------------------\u001b[0m",
            "\u001b[0;31mNameError\u001b[0m                                 Traceback (most recent call last)",
            "\u001b[0;32m<ipython-input-74-20ee6f2e0682>\u001b[0m in \u001b[0;36m<module>\u001b[0;34m()\u001b[0m\n\u001b[0;32m----> 1\u001b[0;31m \u001b[0mxyz\u001b[0m\u001b[0;34m.\u001b[0m\u001b[0mshape\u001b[0m\u001b[0;34m\u001b[0m\u001b[0;34m\u001b[0m\u001b[0m\n\u001b[0m",
            "\u001b[0;31mNameError\u001b[0m: name 'xyz' is not defined"
          ]
        }
      ]
    },
    {
      "cell_type": "code",
      "metadata": {
        "id": "jQt04CfG3D5e",
        "colab_type": "code",
        "colab": {}
      },
      "source": [
        "fake_compensated_points"
      ],
      "execution_count": null,
      "outputs": []
    },
    {
      "cell_type": "code",
      "metadata": {
        "id": "RSh94A-SBRGi",
        "colab_type": "code",
        "colab": {}
      },
      "source": [
        "xtest"
      ],
      "execution_count": null,
      "outputs": []
    },
    {
      "cell_type": "code",
      "metadata": {
        "id": "lhqqXF61BFLD",
        "colab_type": "code",
        "colab": {}
      },
      "source": [
        "ytest_final"
      ],
      "execution_count": null,
      "outputs": []
    },
    {
      "cell_type": "code",
      "metadata": {
        "id": "AALraM2vVS9T",
        "colab_type": "code",
        "colab": {}
      },
      "source": [
        "tr_opt=gen(torch.from_numpy(xtrain_final).float().to(cuda)).to('cpu:0').detach().numpy()"
      ],
      "execution_count": null,
      "outputs": []
    },
    {
      "cell_type": "code",
      "metadata": {
        "id": "FTP08_7LWVXi",
        "colab_type": "code",
        "colab": {}
      },
      "source": [
        "#tensor_mse_calc(testx,normalizer(testy)).mean()\n",
        "ytrain_final=ytrain_final*ytrain_max+ytrain_min\n",
        "tr_opt=tr_opt*ytrain_max+ytrain_min"
      ],
      "execution_count": null,
      "outputs": []
    },
    {
      "cell_type": "code",
      "metadata": {
        "id": "Xsh544Q86-cF",
        "colab_type": "code",
        "colab": {}
      },
      "source": [
        "xtrain_final_unnorm=xtrain_final*xtrain_max+xtrain_min"
      ],
      "execution_count": null,
      "outputs": []
    },
    {
      "cell_type": "code",
      "metadata": {
        "id": "-lgBD6kjLm1v",
        "colab_type": "code",
        "colab": {}
      },
      "source": [
        "mse_calc_(xtrain_final_unnorm,ytrain_final).mean()"
      ],
      "execution_count": null,
      "outputs": []
    },
    {
      "cell_type": "code",
      "metadata": {
        "id": "5EVTmMp87FqJ",
        "colab_type": "code",
        "colab": {}
      },
      "source": [
        "ytrain_final"
      ],
      "execution_count": null,
      "outputs": []
    },
    {
      "cell_type": "code",
      "metadata": {
        "id": "3nPEfnxn7JEd",
        "colab_type": "code",
        "colab": {}
      },
      "source": [
        "xtrain_final_unnorm"
      ],
      "execution_count": null,
      "outputs": []
    },
    {
      "cell_type": "code",
      "metadata": {
        "id": "nidDPxLo7PQl",
        "colab_type": "code",
        "colab": {}
      },
      "source": [
        "mse_calc_(xtrain_final_unnorm,tr_opt).mean()"
      ],
      "execution_count": null,
      "outputs": []
    },
    {
      "cell_type": "code",
      "metadata": {
        "id": "T7dOkZqh7f0T",
        "colab_type": "code",
        "colab": {}
      },
      "source": [
        ""
      ],
      "execution_count": null,
      "outputs": []
    }
  ]
}